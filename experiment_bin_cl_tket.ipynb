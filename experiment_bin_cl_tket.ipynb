{
 "cells": [
  {
   "cell_type": "markdown",
   "source": [
    "# Additional"
   ],
   "metadata": {
    "collapsed": false
   }
  },
  {
   "cell_type": "code",
   "execution_count": null,
   "outputs": [],
   "source": [
    "'''from nltk import word_tokenize\n",
    "def fix_vocab(raw_data):\n",
    "    vocab = set()\n",
    "    for tupl in raw_data:\n",
    "        sen = tupl[0]\n",
    "        for word in word_tokenize(sen):\n",
    "            vocab.add(word)\n",
    "    return vocab\n",
    "vocab = fix_vocab(raw_data)\n",
    "\n",
    "def get_grammar_classes(raw_data):\n",
    "    grammar_classes = {'NN': set(), 'NNS': set(), 'IN': set()}\n",
    "    for tupl in raw_data:\n",
    "        print(pos_tag(word_tokenize(tupl[0])))\n",
    "        for tagged_word in pos_tag(word_tokenize(tupl[0])):\n",
    "            if tagged_word[1] in grammar_classes.keys():\n",
    "                grammar_classes[tagged_word[1]].add(tagged_word[0])\n",
    "    return grammar_classes\n",
    "\n",
    "    def read_data(filename):\n",
    "    labels, sentences = [], []\n",
    "    with open(filename) as f:\n",
    "        for line in f:\n",
    "            t = int(line[0])\n",
    "            labels.append([t, 1-t])\n",
    "            sentences.append(line[1:].strip())\n",
    "    return labels, sentences\n",
    "\n",
    "\n",
    "train_labels, train_data = read_data('data/train_data_bin_class.txt')\n",
    "dev_labels, dev_data = read_data('data/dev_data_bin_class.txt')\n",
    "#test_labels, test_data = read_data('data/dev_data_bin_class.txt')\n",
    "\n",
    "def hinge_loss(predicted, actual):\n",
    "    # replacing 0 = -1\n",
    "    rounded = np.round(predicted)\n",
    "    new_predicted = np.array([-1 if i==0 else i for i in rounded])\n",
    "    new_actual = np.array([-1 if i==0 else i for i in actual[0]])\n",
    "    # calculating hinge loss\n",
    "    hinge_loss = np.mean([max(0, 1-x*y) for x, y in zip(new_actual, new_predicted[0])])\n",
    "    return hinge_loss\n",
    "'''\n"
   ],
   "metadata": {
    "collapsed": false
   }
  },
  {
   "cell_type": "code",
   "execution_count": null,
   "outputs": [],
   "source": [],
   "metadata": {
    "collapsed": false
   }
  },
  {
   "cell_type": "markdown",
   "source": [
    "# Settings"
   ],
   "metadata": {
    "collapsed": false
   }
  },
  {
   "cell_type": "code",
   "execution_count": 99,
   "metadata": {
    "collapsed": true
   },
   "outputs": [],
   "source": [
    "import warnings\n",
    "warnings.filterwarnings(\"ignore\")\n",
    "\n",
    "import os\n",
    "os.environ[\"TOKENIZERS_PARALLELISM\"] = \"false\""
   ]
  },
  {
   "cell_type": "code",
   "execution_count": 101,
   "outputs": [],
   "source": [
    "import numpy as np\n",
    "\n",
    "BATCH_SIZE = 1\n",
    "EPOCHS = 20\n",
    "SEED = 2"
   ],
   "metadata": {
    "collapsed": false
   }
  },
  {
   "cell_type": "markdown",
   "source": [
    "# Data Preprocessing"
   ],
   "metadata": {
    "collapsed": false
   }
  },
  {
   "cell_type": "code",
   "execution_count": 82,
   "outputs": [],
   "source": [
    "def read_raw_data(filename):\n",
    "    raw_data = []\n",
    "    with open(filename) as f:\n",
    "        for line in f:\n",
    "            raw_data.append((line[:-2], line[-2]))\n",
    "    return raw_data\n",
    "raw_train_data = read_raw_data('data/train_data_bin_class_1.txt')\n",
    "raw_dev_data = read_raw_data('data/dev_data_bin_class_1.txt')"
   ],
   "metadata": {
    "collapsed": false
   }
  },
  {
   "cell_type": "code",
   "execution_count": 84,
   "outputs": [
    {
     "data": {
      "text/plain": "[('seal swims in water ', '3'), ('fox chases after chicken ', '1')]"
     },
     "execution_count": 84,
     "metadata": {},
     "output_type": "execute_result"
    }
   ],
   "source": [
    "raw_dev_data"
   ],
   "metadata": {
    "collapsed": false
   }
  },
  {
   "cell_type": "code",
   "execution_count": 85,
   "outputs": [],
   "source": [
    "from lambeq import BobcatParser\n",
    "parser = BobcatParser(verbose='text')"
   ],
   "metadata": {
    "collapsed": false
   }
  },
  {
   "cell_type": "code",
   "execution_count": 87,
   "outputs": [],
   "source": [
    "from collections import defaultdict\n",
    "from nltk import pos_tag, word_tokenize\n",
    "\n",
    "grammar_classes = {\n",
    "    'nouns': [\"dog\", \"cat\", \"mouse\", \"fox\", \"chicken\", \"grain\", \"cheese\", \"bone\", \"fish\", \"whale\", \"seal\", \"krill\", \"water\", \"land\"],\n",
    "    'transitive_verbs': [\"chases\", \"flees\", \"bites\", \"eats\"],\n",
    "    'intransitive_verbs': [\"barks\", \"meows\", \"squeaks\", \"clucks\", \"chases\", \"runs\", \"swims\"],\n",
    "     'prepositions': [\"at\", \"after\", \"in\", \"on\"]\n",
    "}\n"
   ],
   "metadata": {
    "collapsed": false
   }
  },
  {
   "cell_type": "code",
   "execution_count": 91,
   "outputs": [],
   "source": [
    "def create_training_data(raw_data):\n",
    "    labels, sentences = [], []\n",
    "    for tupl in raw_data:\n",
    "        labels.append([1,0])\n",
    "        sentences.append(tupl[0])\n",
    "        replaced_token = word_tokenize(tupl[0])[int(tupl[1])]\n",
    "        for key, value in grammar_classes.items():\n",
    "            if replaced_token in value:\n",
    "                for word in value:\n",
    "                    if word != replaced_token:\n",
    "                        new_list = word_tokenize(tupl[0])\n",
    "                        new_list[word_tokenize(tupl[0]).index(replaced_token)] = word\n",
    "                        new_sen = ' '.join(new_list)\n",
    "                        labels.append([0,1])\n",
    "                        sentences.append(new_sen)\n",
    "    return labels, sentences\n",
    "training_labels, training_data = create_training_data(raw_train_data)\n",
    "dev_labels, dev_data = create_training_data(raw_dev_data)"
   ],
   "metadata": {
    "collapsed": false
   }
  },
  {
   "cell_type": "code",
   "execution_count": 106,
   "outputs": [
    {
     "data": {
      "text/plain": "220"
     },
     "execution_count": 106,
     "metadata": {},
     "output_type": "execute_result"
    }
   ],
   "source": [
    "len(training_data)"
   ],
   "metadata": {
    "collapsed": false
   }
  },
  {
   "cell_type": "markdown",
   "source": [
    "# Circuit Preprocessing"
   ],
   "metadata": {
    "collapsed": false
   }
  },
  {
   "cell_type": "code",
   "execution_count": 92,
   "outputs": [
    {
     "name": "stderr",
     "output_type": "stream",
     "text": [
      "Tagging sentences.\n",
      "Parsing tagged sentences.\n",
      "Turning parse trees to diagrams.\n",
      "Tagging sentences.\n",
      "Parsing tagged sentences.\n",
      "Turning parse trees to diagrams.\n"
     ]
    }
   ],
   "source": [
    "from lambeq import BobcatParser\n",
    "\n",
    "#parser = BobcatParser(verbose='text')\n",
    "\n",
    "raw_train_diagrams = parser.sentences2diagrams(training_data)\n",
    "raw_dev_diagrams = parser.sentences2diagrams(dev_data)\n",
    "#raw_test_diagrams = parser.sentences2diagrams(test_data)"
   ],
   "metadata": {
    "collapsed": false
   }
  },
  {
   "cell_type": "code",
   "execution_count": 93,
   "outputs": [
    {
     "data": {
      "text/plain": "<Figure size 640x480 with 1 Axes>",
      "image/png": "[encoded data removed]"
     },
     "metadata": {},
     "output_type": "display_data"
    }
   ],
   "source": [
    "from lambeq import remove_cups\n",
    "\n",
    "train_diagrams = [remove_cups(diagram) for diagram in raw_train_diagrams]\n",
    "dev_diagrams = [remove_cups(diagram) for diagram in raw_dev_diagrams]\n",
    "#test_diagrams = [remove_cups(diagram) for diagram in raw_test_diagrams]\n",
    "\n",
    "train_diagrams[0].draw()"
   ],
   "metadata": {
    "collapsed": false
   }
  },
  {
   "cell_type": "code",
   "execution_count": 95,
   "outputs": [],
   "source": [
    "from lambeq import AtomicType, IQPAnsatz\n",
    "qubit_map = {t: 1 for t in AtomicType}\n",
    "ansatz = IQPAnsatz(qubit_map,\n",
    "                   n_layers=1, n_single_qubit_params=3)\n",
    "\n",
    "train_circuits = [ansatz(diagram) for diagram in train_diagrams]\n",
    "dev_circuits =  [ansatz(diagram) for diagram in dev_diagrams]\n",
    "#test_circuits = [ansatz(diagram) for diagram in test_diagrams]\n",
    "\n",
    "#train_circuits[1].draw(figsize=(9, 12))"
   ],
   "metadata": {
    "collapsed": false
   }
  },
  {
   "cell_type": "code",
   "execution_count": 96,
   "outputs": [],
   "source": [
    "from pytket.extensions.qiskit import AerBackend\n",
    "from lambeq import TketModel\n",
    "\n",
    "all_circuits = train_circuits+dev_circuits\n",
    "                                            #+test_circuits\n",
    "\n",
    "backend = AerBackend()\n",
    "backend_config = {\n",
    "    'backend': backend,\n",
    "    'compilation': backend.default_compilation_pass(2),\n",
    "    'shots': 8192\n",
    "}\n",
    "model = TketModel.from_diagrams(all_circuits, backend_config=backend_config)"
   ],
   "metadata": {
    "collapsed": false
   }
  },
  {
   "cell_type": "code",
   "execution_count": 97,
   "outputs": [],
   "source": [
    "loss = lambda y_hat, y: -np.sum(y * np.log(y_hat)) / len(y)  # binary cross-entropy loss\n",
    "acc = lambda y_hat, y: np.sum(np.round(y_hat) == y) / len(y) / 2  # half due to double-counting"
   ],
   "metadata": {
    "collapsed": false
   }
  },
  {
   "cell_type": "code",
   "execution_count": 102,
   "outputs": [],
   "source": [
    "from lambeq import QuantumTrainer, SPSAOptimizer\n",
    "\n",
    "trainer = QuantumTrainer(\n",
    "    model,\n",
    "    loss_function=loss,\n",
    "    epochs=EPOCHS,\n",
    "    optimizer=SPSAOptimizer,\n",
    "    optim_hyperparams={'a': 0.05, 'c': 0.06, 'A':0.01*EPOCHS},\n",
    "    evaluate_functions={'acc': acc},\n",
    "    evaluate_on_train=True,\n",
    "    verbose = 'text',\n",
    "    seed=0\n",
    ")"
   ],
   "metadata": {
    "collapsed": false
   }
  },
  {
   "cell_type": "code",
   "execution_count": 103,
   "outputs": [],
   "source": [
    "from lambeq import Dataset\n",
    "\n",
    "train_dataset = Dataset(\n",
    "            train_circuits,\n",
    "            training_labels,\n",
    "            batch_size=BATCH_SIZE)\n",
    "\n",
    "val_dataset = Dataset(dev_circuits, dev_labels, shuffle=False)"
   ],
   "metadata": {
    "collapsed": false
   }
  },
  {
   "cell_type": "code",
   "execution_count": 104,
   "outputs": [
    {
     "name": "stderr",
     "output_type": "stream",
     "text": [
      "Epoch 1:   train/loss: 1.6022   valid/loss: 0.9094   train/acc: 0.4727   valid/acc: 0.5000\n",
      "Epoch 2:   train/loss: 0.9496   valid/loss: 0.7093   train/acc: 0.6182   valid/acc: 0.6042\n",
      "Epoch 3:   train/loss: 0.8440   valid/loss: 0.6218   train/acc: 0.5818   valid/acc: 0.5833\n",
      "Epoch 4:   train/loss: 0.7804   valid/loss: 0.6100   train/acc: 0.5932   valid/acc: 0.6667\n",
      "Epoch 5:   train/loss: 0.7013   valid/loss: 0.5904   train/acc: 0.6568   valid/acc: 0.7083\n",
      "Epoch 6:   train/loss: 0.6313   valid/loss: 0.5925   train/acc: 0.6841   valid/acc: 0.7500\n",
      "Epoch 7:   train/loss: 0.5712   valid/loss: 0.5734   train/acc: 0.7136   valid/acc: 0.7917\n",
      "Epoch 8:   train/loss: 0.5693   valid/loss: 0.5959   train/acc: 0.7023   valid/acc: 0.6667\n",
      "Epoch 9:   train/loss: 0.6454   valid/loss: 1.2883   train/acc: 0.7114   valid/acc: 0.7500\n",
      "Epoch 10:  train/loss: 0.6869   valid/loss: 1.6755   train/acc: 0.6864   valid/acc: 0.2917\n",
      "Epoch 11:  train/loss: 1.1293   valid/loss: 0.7098   train/acc: 0.5591   valid/acc: 0.7083\n",
      "Epoch 12:  train/loss: 0.7403   valid/loss: 0.6834   train/acc: 0.6341   valid/acc: 0.7292\n",
      "Epoch 13:  train/loss: 0.6104   valid/loss: 0.5593   train/acc: 0.6977   valid/acc: 0.7500\n",
      "Epoch 14:  train/loss: 0.5317   valid/loss: 0.5972   train/acc: 0.7409   valid/acc: 0.7083\n",
      "Epoch 15:  train/loss: 0.5287   valid/loss: 0.5735   train/acc: 0.7659   valid/acc: 0.7083\n",
      "Epoch 16:  train/loss: 0.5512   valid/loss: 0.4970   train/acc: 0.7841   valid/acc: 0.7083\n",
      "Epoch 17:  train/loss: 0.6484   valid/loss: 0.4690   train/acc: 0.7250   valid/acc: 0.6667\n",
      "Epoch 18:  train/loss: 0.8680   valid/loss: 0.4885   train/acc: 0.6955   valid/acc: 0.7917\n",
      "Epoch 19:  train/loss: 0.6669   valid/loss: 0.5034   train/acc: 0.6455   valid/acc: 0.7083\n",
      "Epoch 20:  train/loss: 0.6949   valid/loss: 0.6409   train/acc: 0.6659   valid/acc: 0.6042\n",
      "\n",
      "Training completed!\n"
     ]
    }
   ],
   "source": [
    "trainer.fit(train_dataset, val_dataset, logging_step=1)"
   ],
   "metadata": {
    "collapsed": false
   }
  },
  {
   "cell_type": "code",
   "execution_count": 105,
   "outputs": [
    {
     "data": {
      "text/plain": "[<matplotlib.lines.Line2D at 0x2a41c2fe0>]"
     },
     "execution_count": 105,
     "metadata": {},
     "output_type": "execute_result"
    },
    {
     "data": {
      "text/plain": "<Figure size 1000x600 with 4 Axes>",
      "image/png": "[encoded data removed]"
     },
     "metadata": {},
     "output_type": "display_data"
    }
   ],
   "source": [
    "import matplotlib.pyplot as plt\n",
    "\n",
    "fig, ((ax_tl, ax_tr), (ax_bl, ax_br)) = plt.subplots(2, 2, sharex=True, sharey='row', figsize=(10, 6))\n",
    "ax_tl.set_title('Training set')\n",
    "ax_tr.set_title('Development set')\n",
    "ax_bl.set_xlabel('Iterations')\n",
    "ax_br.set_xlabel('Iterations')\n",
    "ax_bl.set_ylabel('Accuracy')\n",
    "ax_tl.set_ylabel('Loss')\n",
    "\n",
    "colours = iter(plt.rcParams['axes.prop_cycle'].by_key()['color'])\n",
    "ax_tl.plot(trainer.train_epoch_costs, color=next(colours))\n",
    "ax_bl.plot(trainer.train_results['acc'], color=next(colours))\n",
    "ax_tr.plot(trainer.val_costs, color=next(colours))\n",
    "ax_br.plot(trainer.val_results['acc'], color=next(colours))\n"
   ],
   "metadata": {
    "collapsed": false
   }
  },
  {
   "cell_type": "code",
   "execution_count": null,
   "outputs": [],
   "source": [],
   "metadata": {
    "collapsed": false
   }
  }
 ],
 "metadata": {
  "kernelspec": {
   "display_name": "Python 3",
   "language": "python",
   "name": "python3"
  },
  "language_info": {
   "codemirror_mode": {
    "name": "ipython",
    "version": 2
   },
   "file_extension": ".py",
   "mimetype": "text/x-python",
   "name": "python",
   "nbconvert_exporter": "python",
   "pygments_lexer": "ipython2",
   "version": "2.7.6"
  }
 },
 "nbformat": 4,
 "nbformat_minor": 0
}
