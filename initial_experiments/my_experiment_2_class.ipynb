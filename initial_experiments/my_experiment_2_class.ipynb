{
 "cells": [
  {
   "cell_type": "markdown",
   "metadata": {},
   "source": [
    "Implementation as a classification task"
   ]
  },
  {
   "cell_type": "code",
   "execution_count": 1,
   "metadata": {
    "collapsed": true
   },
   "outputs": [],
   "source": [
    "import discopy\n",
    "import lambeq\n",
    "from discopy.grammar.pregroup import Ty, Word, Cup, Diagram\n",
    "from discopy.quantum import Circuit, sqrt, Ket, H, Rx, CX, SWAP,Bra\n",
    "from pytket.extensions.qiskit import tk_to_qiskit, AerBackend\n",
    "import numpy as np\n",
    "from discopy import CircuitFunctor, qubit\n",
    "from collections import defaultdict\n",
    "from nltk.tokenize import word_tokenize\n",
    "from random import shuffle\n",
    "import random\n",
    "from sklearn.metrics import mean_squared_error\n",
    "from scipy.special import softmax\n",
    "import qiskit\n",
    "\n"
   ]
  },
  {
   "cell_type": "code",
   "execution_count": 2,
   "metadata": {},
   "outputs": [],
   "source": [
    "parser = lambeq.BobcatParser()"
   ]
  },
  {
   "cell_type": "code",
   "execution_count": 3,
   "metadata": {},
   "outputs": [],
   "source": [
    "counter = -1\n",
    "m = 1"
   ]
  },
  {
   "cell_type": "code",
   "execution_count": 4,
   "metadata": {},
   "outputs": [],
   "source": [
    "corpus = [('Alice loves Bob', 2)]"
   ]
  },
  {
   "cell_type": "code",
   "execution_count": 5,
   "metadata": {},
   "outputs": [
    {
     "data": {
      "text/plain": "defaultdict(<function __main__.<lambda>()>,\n            {'Alice': 0.0651797996169392,\n             'loves': 0.5117816891714322,\n             'Bob': 0.5704345243099592})"
     },
     "execution_count": 5,
     "metadata": {},
     "output_type": "execute_result"
    }
   ],
   "source": [
    "params = defaultdict(lambda:0.1)\n",
    "def initialize_params():\n",
    "    for data_point in corpus:\n",
    "        sen = data_point[0]\n",
    "        for word in word_tokenize(sen):\n",
    "            params[word] = random.random()\n",
    "\n",
    "initialize_params()\n",
    "params"
   ]
  },
  {
   "cell_type": "code",
   "execution_count": 6,
   "metadata": {},
   "outputs": [],
   "source": [
    "vocab = params.keys()"
   ]
  },
  {
   "cell_type": "code",
   "execution_count": 7,
   "metadata": {},
   "outputs": [],
   "source": [
    "def ansatz_cod_len_1(phase):\n",
    "    return Ket(0)>>Rx(phase)\n",
    "def ansatz_cod_len_1_masked():\n",
    "    return Ket(0)\n",
    "def ansatz_cod_len_2(phase):\n",
    "    return Ket(0)>>Rx(phase)\n",
    "def ansatz_cod_len_2_masked():\n",
    "    return Ket(0)\n",
    "def ansatz_cod_len_3(phase):\n",
    "    return Ket(0,0) >> H @ Rx(phase) >> CX\n",
    "def ansatz_cod_len_3_masked():\n",
    "    return Ket(0,0) >> H @ Circuit.id(1) >> CX\n",
    "def ansatz_cod_len_4(phase):\n",
    "    return Ket(0, 0, 0) >> Rx(phase) @ Circuit.id(1) @ Circuit.id(1) >> H @ Circuit.id(1) @ Circuit.id(1) >> CX @ Circuit.id(1) >> Circuit.id(1) @ CX\n",
    "def ansatz_cod_len_4_masked():\n",
    "    return Ket(0, 0, 0) >> H @ Circuit.id(1) @ Circuit.id(1) >> CX @ Circuit.id(1) >> Circuit.id(1) @ CX"
   ]
  },
  {
   "cell_type": "code",
   "execution_count": 8,
   "metadata": {},
   "outputs": [],
   "source": [
    "s, n = Ty('s'), Ty('n')\n",
    "def cnot_ar(box):\n",
    "    global counter\n",
    "\n",
    "    cod = len(box.cod)\n",
    "    box_name = str(box)\n",
    "    counter += 1\n",
    "    if cod == 1 and counter != m:\n",
    "        return ansatz_cod_len_1(params[box_name])\n",
    "    elif cod == 1 and counter == m:\n",
    "        return ansatz_cod_len_1_masked()\n",
    "\n",
    "    elif cod == 2 and counter != m:\n",
    "        return ansatz_cod_len_2(params[box_name])\n",
    "    elif cod == 2 and counter == m:\n",
    "        return ansatz_cod_len_2_masked()\n",
    "\n",
    "    elif cod == 3 and counter != m:\n",
    "        return ansatz_cod_len_3(params[box_name])\n",
    "    elif cod == 3 and counter == m:\n",
    "        return ansatz_cod_len_3_masked()\n",
    "\n",
    "    elif cod == 4 and counter != m:\n",
    "        return ansatz_cod_len_4(params[box_name])\n",
    "    elif cod == 4 and counter == m:\n",
    "        return ansatz_cod_len_4_masked()\n",
    "\n",
    "def generate_functor():\n",
    "    Func = CircuitFunctor(\n",
    "    ob={s: qubit ** 0, n: qubit ** 1},\n",
    "    ar=cnot_ar)\n",
    "    return Func\n"
   ]
  },
  {
   "cell_type": "code",
   "execution_count": 9,
   "metadata": {},
   "outputs": [
    {
     "data": {
      "text/plain": "defaultdict(None, {'Alice loves Bob': 0.07421875000000003})"
     },
     "execution_count": 9,
     "metadata": {},
     "output_type": "execute_result"
    }
   ],
   "source": [
    "test_dict = defaultdict()\n",
    "def build_test_dict():\n",
    "    for data_point in corpus:\n",
    "        sen = data_point[0]\n",
    "        if sen not in test_dict.keys():\n",
    "            dia = generate_functor()(parser.sentence2diagram(sen))\n",
    "            circ_eval = Circuit.eval(\n",
    "                dia,\n",
    "                backend=AerBackend(),\n",
    "                n_shots=1024,\n",
    "                seed=1,\n",
    "                compilation=AerBackend().default_compilation_pass(2))\n",
    "            test_dict[sen] = np.abs(circ_eval.array)\n",
    "build_test_dict()\n",
    "test_dict"
   ]
  },
  {
   "cell_type": "code",
   "execution_count": 10,
   "metadata": {},
   "outputs": [],
   "source": [
    "loss =  mean_squared_error"
   ]
  },
  {
   "cell_type": "code",
   "execution_count": 11,
   "outputs": [],
   "source": [
    "epochs = 150\n",
    "lr = 0.5"
   ],
   "metadata": {
    "collapsed": false
   }
  },
  {
   "cell_type": "code",
   "execution_count": 12,
   "outputs": [],
   "source": [
    "def update(loss, updating_params):\n",
    "    for param in updating_params:\n",
    "        params[param] = params[param] + lr * loss"
   ],
   "metadata": {
    "collapsed": false
   }
  },
  {
   "cell_type": "code",
   "execution_count": 14,
   "outputs": [],
   "source": [
    "def train():\n",
    "    for _ in range(1):\n",
    "        for data_point in corpus:\n",
    "            global m\n",
    "            m=data_point[1]\n",
    "\n",
    "            global counter\n",
    "            counter = -1\n",
    "\n",
    "            sen = data_point[0]\n",
    "\n",
    "            masked_sentence = \" \".join([\"MASK\" if i == m else word for i, word in enumerate(sen.split())])\n",
    "\n",
    "            masked_list=[masked_sentence.replace(\"MASK\", name) for name in params.keys()]\n",
    "\n",
    "\n",
    "            y_true=[1 if tryout == sen else 0 for tryout in masked_list ]\n",
    "\n",
    "\n",
    "            y_pred = []\n",
    "            for tryout in masked_list:\n",
    "                circ = generate_functor()(parser.sentence2diagram(tryout))\n",
    "                circ_eval = Circuit.eval(\n",
    "                    circ,\n",
    "                    backend=AerBackend(),\n",
    "                    n_shots=1024,\n",
    "                    seed=1,\n",
    "                    compilation=AerBackend().default_compilation_pass(2))\n",
    "                rep = circ_eval.array\n",
    "                y_pred.append(1-abs(rep-test_dict[sen])) #decimal bibl\n",
    "            logits = softmax(y_pred)\n",
    "            ls = loss(y_true, logits)\n",
    "            updating_params = []\n",
    "            for token in word_tokenize(sen):\n",
    "                if word_tokenize(sen).index(token) != m:\n",
    "                    updating_params.append(str(token))\n",
    "            update(ls, updating_params)\n",
    "            print(rep)\n"
   ],
   "metadata": {
    "collapsed": false
   }
  },
  {
   "cell_type": "code",
   "execution_count": 15,
   "outputs": [
    {
     "name": "stdout",
     "output_type": "stream",
     "text": [
      "(0.33203125000000017+0j)\n"
     ]
    }
   ],
   "source": [
    "train()"
   ],
   "metadata": {
    "collapsed": false
   }
  },
  {
   "cell_type": "code",
   "execution_count": 3,
   "outputs": [
    {
     "data": {
      "text/plain": "0.0015999999999999994"
     },
     "execution_count": 3,
     "metadata": {},
     "output_type": "execute_result"
    }
   ],
   "source": [
    "loss([0.23,0.45],[0.19,0.49])"
   ],
   "metadata": {
    "collapsed": false
   }
  },
  {
   "cell_type": "code",
   "execution_count": 15,
   "outputs": [
    {
     "data": {
      "text/plain": "array([[0.85870968, 0.85870968],\n       [0.48411926, 0.48411926],\n       [2.71450412, 2.71450412]])"
     },
     "execution_count": 15,
     "metadata": {},
     "output_type": "execute_result"
    }
   ],
   "source": [
    "import numpy as np\n",
    "import spsa\n",
    "l={1:5,2:6,3:7}\n",
    "def sphere1(x) -> float:\n",
    "    return sum([(e[0]-e[1])**2 for e in x])\n",
    "spsa.minimize(sphere1, [(1,5),(2,6),(3,7)])\n"
   ],
   "metadata": {
    "collapsed": false
   }
  },
  {
   "cell_type": "code",
   "execution_count": 43,
   "outputs": [],
   "source": [
    "def sphere(x: np.ndarray) -> float:\n",
    "    return x**2"
   ],
   "metadata": {
    "collapsed": false
   }
  },
  {
   "cell_type": "code",
   "execution_count": 44,
   "outputs": [
    {
     "name": "stdout",
     "output_type": "stream",
     "text": [
      "-1.9847520485605409e-19\n"
     ]
    }
   ],
   "source": [
    "print(spsa.minimize(sphere,0.6))\n"
   ],
   "metadata": {
    "collapsed": false
   }
  },
  {
   "cell_type": "code",
   "execution_count": null,
   "outputs": [],
   "source": [
    "\n"
   ],
   "metadata": {
    "collapsed": false
   }
  }
 ],
 "metadata": {
  "kernelspec": {
   "display_name": "Python 3 (ipykernel)",
   "language": "python",
   "name": "python3"
  },
  "language_info": {
   "codemirror_mode": {
    "name": "ipython",
    "version": 3
   },
   "file_extension": ".py",
   "mimetype": "text/x-python",
   "name": "python",
   "nbconvert_exporter": "python",
   "pygments_lexer": "ipython3",
   "version": "3.10.9"
  }
 },
 "nbformat": 4,
 "nbformat_minor": 1
}
