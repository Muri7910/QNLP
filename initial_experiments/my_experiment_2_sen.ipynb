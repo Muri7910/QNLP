{
 "cells": [
  {
   "cell_type": "code",
   "execution_count": 14,
   "metadata": {
    "ExecuteTime": {
     "end_time": "2023-06-13T07:31:36.326551Z",
     "start_time": "2023-06-13T07:31:36.315710Z"
    }
   },
   "outputs": [],
   "source": [
    "import discopy\n",
    "import lambeq\n",
    "from discopy.grammar.pregroup import Ty, Word, Cup, Diagram\n",
    "from discopy.quantum import Circuit, sqrt, Ket, H, Rx, CX, SWAP,Bra, Controlled, Rz\n",
    "from pytket.extensions.qiskit import tk_to_qiskit, AerBackend\n",
    "import numpy as np\n",
    "from discopy import CircuitFunctor, qubit\n",
    "from collections import defaultdict\n",
    "from nltk.tokenize import word_tokenize\n",
    "from random import shuffle\n",
    "\n",
    "import random"
   ]
  },
  {
   "cell_type": "code",
   "execution_count": 2,
   "metadata": {
    "ExecuteTime": {
     "end_time": "2023-06-13T07:25:02.557028Z",
     "start_time": "2023-06-13T07:24:58.072410Z"
    }
   },
   "outputs": [],
   "source": [
    "parser = lambeq.BobcatParser()"
   ]
  },
  {
   "cell_type": "code",
   "execution_count": 3,
   "metadata": {
    "ExecuteTime": {
     "end_time": "2023-06-13T07:25:02.558262Z",
     "start_time": "2023-06-13T07:25:02.555718Z"
    }
   },
   "outputs": [],
   "source": [
    "corpus = [('Alice loves Bob', 2), ('Alice loves Bob', 0)]"
   ]
  },
  {
   "cell_type": "code",
   "execution_count": 4,
   "metadata": {
    "ExecuteTime": {
     "end_time": "2023-06-13T07:25:02.565560Z",
     "start_time": "2023-06-13T07:25:02.558156Z"
    }
   },
   "outputs": [
    {
     "data": {
      "text/plain": "defaultdict(<function __main__.<lambda>()>,\n            {'Alice': 0.8546146963243221,\n             'loves': 0.5293797319917231,\n             'Bob': 0.40790552080013165})"
     },
     "execution_count": 4,
     "metadata": {},
     "output_type": "execute_result"
    }
   ],
   "source": [
    "params = defaultdict(lambda:0.1)\n",
    "def initialize_params():\n",
    "    for data_point in corpus:\n",
    "        sen = data_point[0]\n",
    "        for word in word_tokenize(sen):\n",
    "            params[word] = random.random()\n",
    "\n",
    "initialize_params()\n",
    "params"
   ]
  },
  {
   "cell_type": "code",
   "execution_count": 5,
   "metadata": {
    "ExecuteTime": {
     "end_time": "2023-06-13T07:25:10.258239Z",
     "start_time": "2023-06-13T07:25:10.244408Z"
    }
   },
   "outputs": [
    {
     "data": {
      "text/plain": "defaultdict(<function __main__.<lambda>()>,\n            {'Alice': 0.8546146963243221,\n             'loves': 0.5293797319917231,\n             'Bob': 0.40790552080013165})"
     },
     "execution_count": 5,
     "metadata": {},
     "output_type": "execute_result"
    }
   ],
   "source": [
    "params"
   ]
  },
  {
   "cell_type": "code",
   "execution_count": 16,
   "metadata": {
    "ExecuteTime": {
     "end_time": "2023-06-13T07:34:10.755703Z",
     "start_time": "2023-06-13T07:34:10.750297Z"
    }
   },
   "outputs": [],
   "source": [
    "def ansatz_cod_len_1(phase):\n",
    "    return Ket(0)>>Rz(phase)>>Rx(phase)>>Rz(phase)\n",
    "def ansatz_cod_len_1_masked():\n",
    "    return Ket(0)\n",
    "def ansatz_cod_len_2(phase):\n",
    "    return Ket(0)>>Rx(phase)\n",
    "def ansatz_cod_len_2_masked():\n",
    "\n",
    "    return Ket(0)\n",
    "def ansatz_cod_len_3(phase):\n",
    "    return Ket(0,0,0) >> H @ H @ H >> Controlled(Rz(phase)) @ Controlled(Rz(phase))\n",
    "def ansatz_cod_len_3_masked():\n",
    "    return Ket(0,0) >> H @ Circuit.id(1) >> CX\n",
    "def ansatz_cod_len_4(phase):\n",
    "    return Ket(0, 0, 0) >> Rx(phase) @ Circuit.id(1) @ Circuit.id(1) >> H @ Circuit.id(1) @ Circuit.id(1) >> CX @ Circuit.id(1) >> Circuit.id(1) @ CX\n"
   ]
  },
  {
   "cell_type": "code",
   "execution_count": 11,
   "metadata": {
    "ExecuteTime": {
     "end_time": "2023-06-13T07:28:47.340205Z",
     "start_time": "2023-06-13T07:28:47.325804Z"
    }
   },
   "outputs": [],
   "source": [
    "counter = 10000\n",
    "m = 5000"
   ]
  },
  {
   "cell_type": "code",
   "execution_count": 17,
   "metadata": {
    "ExecuteTime": {
     "end_time": "2023-06-13T07:34:21.385341Z",
     "start_time": "2023-06-13T07:34:21.378351Z"
    }
   },
   "outputs": [],
   "source": [
    "s, n = Ty('s'), Ty('n')\n",
    "def cnot_ar(box):\n",
    "    global counter\n",
    "\n",
    "    cod = len(box.cod)\n",
    "    box_name = str(box)\n",
    "    counter += 1\n",
    "    if cod == 1 and counter != m:\n",
    "        return ansatz_cod_len_1(params[box_name])\n",
    "    elif cod == 1 and counter == m:\n",
    "        return ansatz_cod_len_1_masked()\n",
    "\n",
    "    elif cod == 2 and counter != m:\n",
    "        return ansatz_cod_len_2(params[box_name])\n",
    "    elif cod == 2 and counter == m:\n",
    "        return ansatz_cod_len_2_masked()\n",
    "\n",
    "    elif cod == 3 and counter != m:\n",
    "        return ansatz_cod_len_3(params[box_name])\n",
    "    elif cod == 3 and counter == m:\n",
    "        return ansatz_cod_len_3_masked()\n",
    "\n",
    "    elif cod == 4 and counter != m:\n",
    "        return ansatz_cod_len_4(params[box_name])\n",
    "\n",
    "def generate_functor():\n",
    "    Func = CircuitFunctor(\n",
    "    ob={s: qubit ** 1, n: qubit ** 1},\n",
    "    ar=cnot_ar)\n",
    "    return Func\n"
   ]
  },
  {
   "cell_type": "code",
   "execution_count": null,
   "outputs": [],
   "source": [],
   "metadata": {
    "collapsed": false
   }
  },
  {
   "cell_type": "code",
   "execution_count": 18,
   "outputs": [
    {
     "ename": "AxiomError",
     "evalue": "Ket(0, 0, 0) >> H @ Id(2) >> Id(1) @ H @ Id(1) >> Id(2) @ H does not compose with CRz(0.529) @ Id(2) >> Id(2) @ CRz(0.529): cod=qubit @ qubit @ qubit, dom=qubit @ qubit @ qubit @ qubit.",
     "output_type": "error",
     "traceback": [
      "\u001B[0;31m---------------------------------------------------------------------------\u001B[0m",
      "\u001B[0;31mAxiomError\u001B[0m                                Traceback (most recent call last)",
      "Cell \u001B[0;32mIn[18], line 1\u001B[0m\n\u001B[0;32m----> 1\u001B[0m circ \u001B[38;5;241m=\u001B[39m \u001B[43mgenerate_functor\u001B[49m\u001B[43m(\u001B[49m\u001B[43m)\u001B[49m\u001B[43m(\u001B[49m\u001B[43mparser\u001B[49m\u001B[38;5;241;43m.\u001B[39;49m\u001B[43msentence2diagram\u001B[49m\u001B[43m(\u001B[49m\u001B[38;5;124;43m'\u001B[39;49m\u001B[38;5;124;43mAlice loves Bob\u001B[39;49m\u001B[38;5;124;43m'\u001B[39;49m\u001B[43m)\u001B[49m\u001B[43m)\u001B[49m\n\u001B[1;32m      2\u001B[0m circ_eval \u001B[38;5;241m=\u001B[39m Circuit\u001B[38;5;241m.\u001B[39meval(\n\u001B[1;32m      3\u001B[0m             circ,\n\u001B[1;32m      4\u001B[0m             backend\u001B[38;5;241m=\u001B[39mAerBackend(),\n\u001B[1;32m      5\u001B[0m             n_shots\u001B[38;5;241m=\u001B[39m\u001B[38;5;241m1024\u001B[39m,\n\u001B[1;32m      6\u001B[0m             seed\u001B[38;5;241m=\u001B[39m\u001B[38;5;241m1\u001B[39m,\n\u001B[1;32m      7\u001B[0m             compilation\u001B[38;5;241m=\u001B[39mAerBackend()\u001B[38;5;241m.\u001B[39mdefault_compilation_pass(\u001B[38;5;241m2\u001B[39m))\n",
      "File \u001B[0;32m~/PycharmProjects/discopy_0.5.0/lib/python3.10/site-packages/discopy/rigid.py:688\u001B[0m, in \u001B[0;36mFunctor.__call__\u001B[0;34m(self, diagram)\u001B[0m\n\u001B[1;32m    686\u001B[0m     \u001B[38;5;28;01mreturn\u001B[39;00m result\n\u001B[1;32m    687\u001B[0m \u001B[38;5;28;01mif\u001B[39;00m \u001B[38;5;28misinstance\u001B[39m(diagram, monoidal\u001B[38;5;241m.\u001B[39mDiagram):\n\u001B[0;32m--> 688\u001B[0m     \u001B[38;5;28;01mreturn\u001B[39;00m \u001B[38;5;28;43msuper\u001B[39;49m\u001B[43m(\u001B[49m\u001B[43m)\u001B[49m\u001B[38;5;241;43m.\u001B[39;49m\u001B[38;5;21;43m__call__\u001B[39;49m\u001B[43m(\u001B[49m\u001B[43mdiagram\u001B[49m\u001B[43m)\u001B[49m\n\u001B[1;32m    689\u001B[0m \u001B[38;5;28;01mraise\u001B[39;00m \u001B[38;5;167;01mTypeError\u001B[39;00m(messages\u001B[38;5;241m.\u001B[39mtype_err(Diagram, diagram))\n",
      "File \u001B[0;32m~/PycharmProjects/discopy_0.5.0/lib/python3.10/site-packages/discopy/monoidal.py:916\u001B[0m, in \u001B[0;36mFunctor.__call__\u001B[0;34m(self, diagram)\u001B[0m\n\u001B[1;32m    914\u001B[0m     id_l \u001B[38;5;241m=\u001B[39m \u001B[38;5;28mself\u001B[39m\u001B[38;5;241m.\u001B[39mar_factory\u001B[38;5;241m.\u001B[39mid(\u001B[38;5;28mself\u001B[39m(scan[:off]))\n\u001B[1;32m    915\u001B[0m     id_r \u001B[38;5;241m=\u001B[39m \u001B[38;5;28mself\u001B[39m\u001B[38;5;241m.\u001B[39mar_factory\u001B[38;5;241m.\u001B[39mid(\u001B[38;5;28mself\u001B[39m(scan[off \u001B[38;5;241m+\u001B[39m \u001B[38;5;28mlen\u001B[39m(box\u001B[38;5;241m.\u001B[39mdom):]))\n\u001B[0;32m--> 916\u001B[0m     result \u001B[38;5;241m=\u001B[39m result \u001B[38;5;241m>>\u001B[39m id_l \u001B[38;5;241m@\u001B[39m \u001B[38;5;28;43mself\u001B[39;49m\u001B[43m(\u001B[49m\u001B[43mbox\u001B[49m\u001B[43m)\u001B[49m \u001B[38;5;241m@\u001B[39m id_r\n\u001B[1;32m    917\u001B[0m     scan \u001B[38;5;241m=\u001B[39m scan[:off] \u001B[38;5;241m@\u001B[39m box\u001B[38;5;241m.\u001B[39mcod \u001B[38;5;241m@\u001B[39m scan[off \u001B[38;5;241m+\u001B[39m \u001B[38;5;28mlen\u001B[39m(box\u001B[38;5;241m.\u001B[39mdom):]\n\u001B[1;32m    918\u001B[0m \u001B[38;5;28;01mreturn\u001B[39;00m result\n",
      "File \u001B[0;32m~/PycharmProjects/discopy_0.5.0/lib/python3.10/site-packages/discopy/rigid.py:679\u001B[0m, in \u001B[0;36mFunctor.__call__\u001B[0;34m(self, diagram)\u001B[0m\n\u001B[1;32m    677\u001B[0m \u001B[38;5;28;01mif\u001B[39;00m \u001B[38;5;28misinstance\u001B[39m(diagram, Box):\n\u001B[1;32m    678\u001B[0m     \u001B[38;5;28;01mif\u001B[39;00m \u001B[38;5;129;01mnot\u001B[39;00m \u001B[38;5;28mhasattr\u001B[39m(diagram, \u001B[38;5;124m\"\u001B[39m\u001B[38;5;124mz\u001B[39m\u001B[38;5;124m\"\u001B[39m) \u001B[38;5;129;01mor\u001B[39;00m \u001B[38;5;129;01mnot\u001B[39;00m diagram\u001B[38;5;241m.\u001B[39mz:\n\u001B[0;32m--> 679\u001B[0m         \u001B[38;5;28;01mreturn\u001B[39;00m \u001B[38;5;28;43msuper\u001B[39;49m\u001B[43m(\u001B[49m\u001B[43m)\u001B[49m\u001B[38;5;241;43m.\u001B[39;49m\u001B[38;5;21;43m__call__\u001B[39;49m\u001B[43m(\u001B[49m\u001B[43mdiagram\u001B[49m\u001B[43m)\u001B[49m\n\u001B[1;32m    680\u001B[0m     z \u001B[38;5;241m=\u001B[39m diagram\u001B[38;5;241m.\u001B[39mz\n\u001B[1;32m    681\u001B[0m     \u001B[38;5;28;01mfor\u001B[39;00m _ \u001B[38;5;129;01min\u001B[39;00m \u001B[38;5;28mrange\u001B[39m(\u001B[38;5;28mabs\u001B[39m(z)):\n",
      "File \u001B[0;32m~/PycharmProjects/discopy_0.5.0/lib/python3.10/site-packages/discopy/monoidal.py:910\u001B[0m, in \u001B[0;36mFunctor.__call__\u001B[0;34m(self, diagram)\u001B[0m\n\u001B[1;32m    907\u001B[0m     \u001B[38;5;28;01mreturn\u001B[39;00m \u001B[38;5;28mself\u001B[39m\u001B[38;5;241m.\u001B[39mar_factory\u001B[38;5;241m.\u001B[39mswap(\n\u001B[1;32m    908\u001B[0m         \u001B[38;5;28mself\u001B[39m(diagram\u001B[38;5;241m.\u001B[39mleft), \u001B[38;5;28mself\u001B[39m(diagram\u001B[38;5;241m.\u001B[39mright))\n\u001B[1;32m    909\u001B[0m \u001B[38;5;28;01mif\u001B[39;00m \u001B[38;5;28misinstance\u001B[39m(diagram, Box):\n\u001B[0;32m--> 910\u001B[0m     \u001B[38;5;28;01mreturn\u001B[39;00m \u001B[38;5;28;43msuper\u001B[39;49m\u001B[43m(\u001B[49m\u001B[43m)\u001B[49m\u001B[38;5;241;43m.\u001B[39;49m\u001B[38;5;21;43m__call__\u001B[39;49m\u001B[43m(\u001B[49m\u001B[43mdiagram\u001B[49m\u001B[43m)\u001B[49m\n\u001B[1;32m    911\u001B[0m \u001B[38;5;28;01mif\u001B[39;00m \u001B[38;5;28misinstance\u001B[39m(diagram, Diagram):\n\u001B[1;32m    912\u001B[0m     scan, result \u001B[38;5;241m=\u001B[39m diagram\u001B[38;5;241m.\u001B[39mdom, \u001B[38;5;28mself\u001B[39m\u001B[38;5;241m.\u001B[39mar_factory\u001B[38;5;241m.\u001B[39mid(\u001B[38;5;28mself\u001B[39m(diagram\u001B[38;5;241m.\u001B[39mdom))\n",
      "File \u001B[0;32m~/PycharmProjects/discopy_0.5.0/lib/python3.10/site-packages/discopy/cat.py:911\u001B[0m, in \u001B[0;36mFunctor.__call__\u001B[0;34m(self, arrow)\u001B[0m\n\u001B[1;32m    909\u001B[0m     \u001B[38;5;28;01mif\u001B[39;00m arrow\u001B[38;5;241m.\u001B[39mis_dagger:\n\u001B[1;32m    910\u001B[0m         \u001B[38;5;28;01mreturn\u001B[39;00m \u001B[38;5;28mself\u001B[39m\u001B[38;5;241m.\u001B[39mar[arrow\u001B[38;5;241m.\u001B[39mdagger()]\u001B[38;5;241m.\u001B[39mdagger()\n\u001B[0;32m--> 911\u001B[0m     \u001B[38;5;28;01mreturn\u001B[39;00m \u001B[38;5;28;43mself\u001B[39;49m\u001B[38;5;241;43m.\u001B[39;49m\u001B[43mar\u001B[49m\u001B[43m[\u001B[49m\u001B[43marrow\u001B[49m\u001B[43m]\u001B[49m\n\u001B[1;32m    912\u001B[0m \u001B[38;5;28;01mif\u001B[39;00m \u001B[38;5;28misinstance\u001B[39m(arrow, Arrow):\n\u001B[1;32m    913\u001B[0m     \u001B[38;5;28;01mreturn\u001B[39;00m \u001B[38;5;28mself\u001B[39m\u001B[38;5;241m.\u001B[39mar_factory\u001B[38;5;241m.\u001B[39mid(\u001B[38;5;28mself\u001B[39m(arrow\u001B[38;5;241m.\u001B[39mdom))\u001B[38;5;241m.\u001B[39mthen(\u001B[38;5;241m*\u001B[39m\u001B[38;5;28mmap\u001B[39m(\u001B[38;5;28mself\u001B[39m, arrow))\n",
      "File \u001B[0;32m~/PycharmProjects/discopy_0.5.0/lib/python3.10/site-packages/discopy/cat.py:961\u001B[0m, in \u001B[0;36mQuiver.__getitem__\u001B[0;34m(self, box)\u001B[0m\n\u001B[1;32m    960\u001B[0m \u001B[38;5;28;01mdef\u001B[39;00m \u001B[38;5;21m__getitem__\u001B[39m(\u001B[38;5;28mself\u001B[39m, box):\n\u001B[0;32m--> 961\u001B[0m     \u001B[38;5;28;01mreturn\u001B[39;00m \u001B[38;5;28;43mself\u001B[39;49m\u001B[38;5;241;43m.\u001B[39;49m\u001B[43m_func\u001B[49m\u001B[43m(\u001B[49m\u001B[43mbox\u001B[49m\u001B[43m)\u001B[49m\n",
      "Cell \u001B[0;32mIn[17], line 19\u001B[0m, in \u001B[0;36mcnot_ar\u001B[0;34m(box)\u001B[0m\n\u001B[1;32m     16\u001B[0m     \u001B[38;5;28;01mreturn\u001B[39;00m ansatz_cod_len_2_masked()\n\u001B[1;32m     18\u001B[0m \u001B[38;5;28;01melif\u001B[39;00m cod \u001B[38;5;241m==\u001B[39m \u001B[38;5;241m3\u001B[39m \u001B[38;5;129;01mand\u001B[39;00m counter \u001B[38;5;241m!=\u001B[39m m:\n\u001B[0;32m---> 19\u001B[0m     \u001B[38;5;28;01mreturn\u001B[39;00m \u001B[43mansatz_cod_len_3\u001B[49m\u001B[43m(\u001B[49m\u001B[43mparams\u001B[49m\u001B[43m[\u001B[49m\u001B[43mbox_name\u001B[49m\u001B[43m]\u001B[49m\u001B[43m)\u001B[49m\n\u001B[1;32m     20\u001B[0m \u001B[38;5;28;01melif\u001B[39;00m cod \u001B[38;5;241m==\u001B[39m \u001B[38;5;241m3\u001B[39m \u001B[38;5;129;01mand\u001B[39;00m counter \u001B[38;5;241m==\u001B[39m m:\n\u001B[1;32m     21\u001B[0m     \u001B[38;5;28;01mreturn\u001B[39;00m ansatz_cod_len_3_masked()\n",
      "Cell \u001B[0;32mIn[16], line 11\u001B[0m, in \u001B[0;36mansatz_cod_len_3\u001B[0;34m(phase)\u001B[0m\n\u001B[1;32m     10\u001B[0m \u001B[38;5;28;01mdef\u001B[39;00m \u001B[38;5;21mansatz_cod_len_3\u001B[39m(phase):\n\u001B[0;32m---> 11\u001B[0m     \u001B[38;5;28;01mreturn\u001B[39;00m \u001B[43mKet\u001B[49m\u001B[43m(\u001B[49m\u001B[38;5;241;43m0\u001B[39;49m\u001B[43m,\u001B[49m\u001B[38;5;241;43m0\u001B[39;49m\u001B[43m,\u001B[49m\u001B[38;5;241;43m0\u001B[39;49m\u001B[43m)\u001B[49m\u001B[43m \u001B[49m\u001B[38;5;241;43m>>\u001B[39;49m\u001B[43m \u001B[49m\u001B[43mH\u001B[49m\u001B[43m \u001B[49m\u001B[38;5;241;43m@\u001B[39;49m\u001B[43m \u001B[49m\u001B[43mH\u001B[49m\u001B[43m \u001B[49m\u001B[38;5;241;43m@\u001B[39;49m\u001B[43m \u001B[49m\u001B[43mH\u001B[49m\u001B[43m \u001B[49m\u001B[38;5;241;43m>>\u001B[39;49m\u001B[43m \u001B[49m\u001B[43mControlled\u001B[49m\u001B[43m(\u001B[49m\u001B[43mRz\u001B[49m\u001B[43m(\u001B[49m\u001B[43mphase\u001B[49m\u001B[43m)\u001B[49m\u001B[43m)\u001B[49m\u001B[43m \u001B[49m\u001B[38;5;241;43m@\u001B[39;49m\u001B[43m \u001B[49m\u001B[43mControlled\u001B[49m\u001B[43m(\u001B[49m\u001B[43mRz\u001B[49m\u001B[43m(\u001B[49m\u001B[43mphase\u001B[49m\u001B[43m)\u001B[49m\u001B[43m)\u001B[49m\n",
      "File \u001B[0;32m~/PycharmProjects/discopy_0.5.0/lib/python3.10/site-packages/discopy/cat.py:299\u001B[0m, in \u001B[0;36mArrow.__rshift__\u001B[0;34m(self, other)\u001B[0m\n\u001B[1;32m    298\u001B[0m \u001B[38;5;28;01mdef\u001B[39;00m \u001B[38;5;21m__rshift__\u001B[39m(\u001B[38;5;28mself\u001B[39m, other):\n\u001B[0;32m--> 299\u001B[0m     \u001B[38;5;28;01mreturn\u001B[39;00m \u001B[38;5;28;43mself\u001B[39;49m\u001B[38;5;241;43m.\u001B[39;49m\u001B[43mthen\u001B[49m\u001B[43m(\u001B[49m\u001B[43mother\u001B[49m\u001B[43m)\u001B[49m\n",
      "File \u001B[0;32m~/PycharmProjects/discopy_0.5.0/lib/python3.10/site-packages/discopy/monoidal.py:421\u001B[0m, in \u001B[0;36mDiagram.then\u001B[0;34m(self, *others)\u001B[0m\n\u001B[1;32m    415\u001B[0m     \u001B[38;5;28;01mreturn\u001B[39;00m \u001B[38;5;28msuper\u001B[39m()\u001B[38;5;241m.\u001B[39mthen(\u001B[38;5;241m*\u001B[39mothers)\n\u001B[1;32m    416\u001B[0m other, \u001B[38;5;241m=\u001B[39m others\n\u001B[1;32m    417\u001B[0m \u001B[38;5;28;01mreturn\u001B[39;00m \u001B[38;5;28mself\u001B[39m\u001B[38;5;241m.\u001B[39mupgrade(\n\u001B[1;32m    418\u001B[0m     Diagram(\u001B[38;5;28mself\u001B[39m\u001B[38;5;241m.\u001B[39mdom, other\u001B[38;5;241m.\u001B[39mcod,\n\u001B[1;32m    419\u001B[0m             \u001B[38;5;28mself\u001B[39m\u001B[38;5;241m.\u001B[39mboxes \u001B[38;5;241m+\u001B[39m other\u001B[38;5;241m.\u001B[39mboxes,\n\u001B[1;32m    420\u001B[0m             \u001B[38;5;28mself\u001B[39m\u001B[38;5;241m.\u001B[39moffsets \u001B[38;5;241m+\u001B[39m other\u001B[38;5;241m.\u001B[39moffsets,\n\u001B[0;32m--> 421\u001B[0m             layers\u001B[38;5;241m=\u001B[39m\u001B[38;5;28;43mself\u001B[39;49m\u001B[38;5;241;43m.\u001B[39;49m\u001B[43mlayers\u001B[49m\u001B[43m \u001B[49m\u001B[38;5;241;43m>>\u001B[39;49m\u001B[43m \u001B[49m\u001B[43mother\u001B[49m\u001B[38;5;241;43m.\u001B[39;49m\u001B[43mlayers\u001B[49m))\n",
      "File \u001B[0;32m~/PycharmProjects/discopy_0.5.0/lib/python3.10/site-packages/discopy/cat.py:299\u001B[0m, in \u001B[0;36mArrow.__rshift__\u001B[0;34m(self, other)\u001B[0m\n\u001B[1;32m    298\u001B[0m \u001B[38;5;28;01mdef\u001B[39;00m \u001B[38;5;21m__rshift__\u001B[39m(\u001B[38;5;28mself\u001B[39m, other):\n\u001B[0;32m--> 299\u001B[0m     \u001B[38;5;28;01mreturn\u001B[39;00m \u001B[38;5;28;43mself\u001B[39;49m\u001B[38;5;241;43m.\u001B[39;49m\u001B[43mthen\u001B[49m\u001B[43m(\u001B[49m\u001B[43mother\u001B[49m\u001B[43m)\u001B[49m\n",
      "File \u001B[0;32m~/PycharmProjects/discopy_0.5.0/lib/python3.10/site-packages/discopy/cat.py:294\u001B[0m, in \u001B[0;36mArrow.then\u001B[0;34m(self, *others)\u001B[0m\n\u001B[1;32m    292\u001B[0m     \u001B[38;5;28;01mraise\u001B[39;00m \u001B[38;5;167;01mTypeError\u001B[39;00m(messages\u001B[38;5;241m.\u001B[39mtype_err(Arrow, other))\n\u001B[1;32m    293\u001B[0m \u001B[38;5;28;01mif\u001B[39;00m \u001B[38;5;28mself\u001B[39m\u001B[38;5;241m.\u001B[39mcod \u001B[38;5;241m!=\u001B[39m other\u001B[38;5;241m.\u001B[39mdom:\n\u001B[0;32m--> 294\u001B[0m     \u001B[38;5;28;01mraise\u001B[39;00m AxiomError(messages\u001B[38;5;241m.\u001B[39mdoes_not_compose(\u001B[38;5;28mself\u001B[39m, other))\n\u001B[1;32m    295\u001B[0m \u001B[38;5;28;01mreturn\u001B[39;00m \u001B[38;5;28mself\u001B[39m\u001B[38;5;241m.\u001B[39mupgrade(Arrow(\n\u001B[1;32m    296\u001B[0m     \u001B[38;5;28mself\u001B[39m\u001B[38;5;241m.\u001B[39mdom, other\u001B[38;5;241m.\u001B[39mcod, \u001B[38;5;28mself\u001B[39m\u001B[38;5;241m.\u001B[39mboxes \u001B[38;5;241m+\u001B[39m other\u001B[38;5;241m.\u001B[39mboxes, _scan\u001B[38;5;241m=\u001B[39m\u001B[38;5;28;01mFalse\u001B[39;00m))\n",
      "\u001B[0;31mAxiomError\u001B[0m: Ket(0, 0, 0) >> H @ Id(2) >> Id(1) @ H @ Id(1) >> Id(2) @ H does not compose with CRz(0.529) @ Id(2) >> Id(2) @ CRz(0.529): cod=qubit @ qubit @ qubit, dom=qubit @ qubit @ qubit @ qubit."
     ]
    }
   ],
   "source": [
    "circ = generate_functor()(parser.sentence2diagram('Alice loves Bob'))\n",
    "circ_eval = Circuit.eval(\n",
    "            circ,\n",
    "            backend=AerBackend(),\n",
    "            n_shots=1024,\n",
    "            seed=1,\n",
    "            compilation=AerBackend().default_compilation_pass(2))"
   ],
   "metadata": {
    "collapsed": false,
    "ExecuteTime": {
     "end_time": "2023-06-13T07:34:23.630048Z",
     "start_time": "2023-06-13T07:34:22.929008Z"
    }
   }
  },
  {
   "cell_type": "code",
   "execution_count": 137,
   "metadata": {},
   "outputs": [
    {
     "data": {
      "text/plain": [
       "[[('Alice loves Bob', 2), 0.2460937500000001],\n",
       " [('Alice loves Bob', 0), 0.11718750000000006]]"
      ]
     },
     "execution_count": 137,
     "metadata": {},
     "output_type": "execute_result"
    }
   ],
   "source": [
    "data = []\n",
    "def build_data():\n",
    "    \"\"\"\n",
    "    We build a data list in form of: [[sen, masked sen, eval of sen with random params], ...]\n",
    "    :return:\n",
    "    \"\"\"\n",
    "    for tuple in corpus:\n",
    "        data_point = []\n",
    "\n",
    "        #Append the tuple\n",
    "        data_point.append(tuple)\n",
    "\n",
    "        #Get the evaluation of the origin sentence\n",
    "        circ = generate_functor()(parser.sentence2diagram(tuple[0]))\n",
    "        circ_eval = Circuit.eval(\n",
    "            circ,\n",
    "            backend=AerBackend(),\n",
    "            n_shots=1024,\n",
    "            seed=1,\n",
    "            compilation=AerBackend().default_compilation_pass(2))\n",
    "        data_point.append(np.abs(circ_eval.array))\n",
    "        data.append(data_point)\n",
    "build_data()\n",
    "data"
   ]
  },
  {
   "cell_type": "code",
   "execution_count": 138,
   "metadata": {},
   "outputs": [
    {
     "data": {
      "text/plain": [
       "defaultdict(None, {'Alice loves Bob': 0.11718750000000006})"
      ]
     },
     "execution_count": 138,
     "metadata": {},
     "output_type": "execute_result"
    }
   ],
   "source": [
    "test_dict = defaultdict()\n",
    "def build_test_dict():\n",
    "    for data_point in corpus:\n",
    "        sen = data_point[0]\n",
    "        if sen not in test_dict.keys():\n",
    "            dia = generate_functor()(parser.sentence2diagram(sen))\n",
    "            circ_eval = Circuit.eval(\n",
    "                dia,\n",
    "                backend=AerBackend(),\n",
    "                n_shots=1024,\n",
    "                seed=1,\n",
    "                compilation=AerBackend().default_compilation_pass(2))\n",
    "            test_dict[sen] = np.abs(circ_eval.array)\n",
    "build_test_dict()\n",
    "test_dict"
   ]
  },
  {
   "cell_type": "code",
   "execution_count": 139,
   "metadata": {},
   "outputs": [
    {
     "data": {
      "text/plain": [
       "'\\nfrom pytket.extensions.qiskit import tk_to_qiskit, AerBackend\\ntk_circ = circuit.to_tk()\\ntk_to_qiskit(tk_circ).draw()\\n'"
      ]
     },
     "execution_count": 139,
     "metadata": {},
     "output_type": "execute_result"
    }
   ],
   "source": [
    "'''\n",
    "from pytket.extensions.qiskit import tk_to_qiskit, AerBackend\n",
    "tk_circ = circuit.to_tk()\n",
    "tk_to_qiskit(tk_circ).draw()\n",
    "'''"
   ]
  },
  {
   "cell_type": "code",
   "execution_count": 140,
   "metadata": {},
   "outputs": [],
   "source": [
    "epochs = 1500\n",
    "lr = 0.05"
   ]
  },
  {
   "cell_type": "code",
   "execution_count": 141,
   "metadata": {},
   "outputs": [],
   "source": [
    "def loss(y_true, y_pred):\n",
    "    return (y_true - y_pred)**2"
   ]
  },
  {
   "cell_type": "code",
   "execution_count": 142,
   "metadata": {},
   "outputs": [],
   "source": [
    "def update(loss, updating_params):\n",
    "    for param in updating_params:\n",
    "        params[param] = params[param.strip()] + lr * loss"
   ]
  },
  {
   "cell_type": "code",
   "execution_count": 143,
   "metadata": {},
   "outputs": [],
   "source": [
    "def train():\n",
    "    for _ in range(epochs):\n",
    "        for data_point in data:\n",
    "            sen = data_point[0][0]\n",
    "\n",
    "            global m\n",
    "            m=data_point[0][1]\n",
    "\n",
    "            y_true = data_point[1]\n",
    "\n",
    "            global counter\n",
    "            counter = -1\n",
    "            circ = generate_functor()(parser.sentence2diagram(sen))\n",
    "            circ_eval = Circuit.eval(\n",
    "                circ,\n",
    "                backend=AerBackend(),\n",
    "                n_shots=1024,\n",
    "                seed=1,\n",
    "                compilation=AerBackend().default_compilation_pass(2))\n",
    "            qugit = np.abs(circ_eval.array)\n",
    "            ls = loss(y_true, qugit)\n",
    "            updating_params = []\n",
    "            for token in word_tokenize(sen):\n",
    "                if word_tokenize(sen).index(token) != m:\n",
    "                    updating_params.append(str(token))\n",
    "            update(ls, updating_params)\n",
    "            print(ls)\n"
   ]
  },
  {
   "cell_type": "code",
   "execution_count": 144,
   "metadata": {},
   "outputs": [
    {
     "name": "stdout",
     "output_type": "stream",
     "text": [
      "0.0\n",
      "0.016616821289062514\n",
      "0.0\n",
      "0.016616821289062514\n",
      "0.0\n",
      "0.016616821289062514\n",
      "0.0\n",
      "0.016616821289062514\n",
      "0.0\n",
      "0.015625000000000014\n",
      "0.0\n",
      "0.015625000000000014\n",
      "0.0\n",
      "0.015625000000000014\n",
      "0.0\n",
      "0.014663696289062514\n",
      "1.52587890625e-05\n",
      "0.013732910156250014\n",
      "1.52587890625e-05\n",
      "0.013732910156250014\n",
      "1.52587890625e-05\n",
      "0.012832641601562512\n",
      "1.52587890625e-05\n",
      "0.011123657226562512\n",
      "1.52587890625e-05\n",
      "0.011123657226562512\n",
      "1.52587890625e-05\n",
      "0.01031494140625001\n",
      "6.103515625e-05\n",
      "0.01031494140625001\n",
      "6.103515625e-05\n",
      "0.01031494140625001\n",
      "6.103515625e-05\n",
      "0.01031494140625001\n",
      "6.103515625e-05\n",
      "0.01031494140625001\n",
      "6.103515625e-05\n",
      "0.01031494140625001\n",
      "6.103515625e-05\n",
      "0.009536743164062505\n",
      "0.0001373291015625\n",
      "0.009536743164062505\n",
      "0.0001373291015625\n",
      "0.009536743164062505\n",
      "0.0001373291015625\n",
      "0.009536743164062505\n",
      "0.000244140625\n",
      "0.009536743164062505\n",
      "0.000244140625\n",
      "0.009536743164062505\n",
      "0.000244140625\n",
      "0.009536743164062505\n",
      "0.00054931640625\n",
      "0.009536743164062505\n",
      "0.00054931640625\n",
      "0.009536743164062505\n",
      "0.00054931640625\n",
      "0.009536743164062505\n",
      "0.00054931640625\n",
      "0.009536743164062505\n",
      "0.00054931640625\n",
      "0.009536743164062505\n",
      "0.00054931640625\n",
      "0.009536743164062505\n",
      "0.0007476806640625\n",
      "0.009536743164062505\n",
      "0.0007476806640625\n",
      "0.008071899414062505\n",
      "0.0007476806640625\n",
      "0.008071899414062505\n",
      "0.0007476806640625\n",
      "0.008071899414062505\n",
      "0.0007476806640625\n",
      "0.007385253906250005\n",
      "0.0007476806640625\n",
      "0.007385253906250005\n",
      "0.0007476806640625\n",
      "0.007385253906250005\n",
      "0.0007476806640625\n",
      "0.007385253906250005\n",
      "0.0007476806640625\n",
      "0.007385253906250005\n",
      "0.0007476806640625\n",
      "0.007385253906250005\n",
      "0.0007476806640625\n",
      "0.006729125976562504\n",
      "0.0009765625000000017\n",
      "0.006729125976562504\n",
      "0.0009765625000000017\n",
      "0.006729125976562504\n",
      "0.0009765625000000017\n",
      "0.006729125976562504\n",
      "0.0009765625000000017\n",
      "0.006729125976562504\n",
      "0.0009765625000000017\n",
      "0.006729125976562504\n",
      "0.0009765625000000017\n",
      "0.006729125976562504\n",
      "0.0009765625000000017\n",
      "0.006729125976562504\n",
      "0.0009765625000000017\n",
      "0.006729125976562504\n",
      "0.0009765625000000017\n",
      "0.006729125976562504\n",
      "0.0009765625000000017\n",
      "0.006729125976562504\n",
      "0.0009765625000000017\n",
      "0.006729125976562504\n",
      "0.0009765625000000017\n",
      "0.006729125976562504\n",
      "0.0009765625000000017\n",
      "0.006729125976562504\n",
      "0.0009765625000000017\n",
      "0.006729125976562504\n",
      "0.0009765625000000017\n",
      "0.006729125976562504\n",
      "0.0009765625000000017\n",
      "0.006729125976562504\n",
      "0.0009765625000000017\n",
      "0.006729125976562504\n",
      "0.0009765625000000017\n",
      "0.006103515625000004\n",
      "0.0009765625000000017\n",
      "0.006103515625000004\n",
      "0.0009765625000000017\n",
      "0.006103515625000004\n",
      "0.0009765625000000017\n",
      "0.006103515625000004\n",
      "0.0009765625000000017\n",
      "0.006103515625000004\n",
      "0.0009765625000000017\n",
      "0.006103515625000004\n",
      "0.0009765625000000017\n",
      "0.006103515625000004\n",
      "0.0009765625000000017\n",
      "0.006103515625000004\n",
      "0.0009765625000000017\n",
      "0.006103515625000004\n",
      "0.0009765625000000017\n",
      "0.006103515625000004\n",
      "0.0009765625000000017\n",
      "0.006103515625000004\n",
      "0.0009765625000000017\n",
      "0.005508422851562504\n",
      "0.0009765625000000017\n",
      "0.005508422851562504\n",
      "0.0009765625000000017\n",
      "0.005508422851562504\n",
      "0.0009765625000000017\n",
      "0.005508422851562504\n",
      "0.0009765625000000017\n",
      "0.0049438476562500035\n",
      "0.0015258789062500022\n",
      "0.0049438476562500035\n",
      "0.0015258789062500022\n",
      "0.0049438476562500035\n",
      "0.0015258789062500022\n",
      "0.0049438476562500035\n",
      "0.0015258789062500022\n",
      "0.0049438476562500035\n",
      "0.0015258789062500022\n",
      "0.0049438476562500035\n",
      "0.0015258789062500022\n",
      "0.0049438476562500035\n",
      "0.0015258789062500022\n",
      "0.0049438476562500035\n",
      "0.0015258789062500022\n",
      "0.0039062500000000035\n",
      "0.0015258789062500022\n",
      "0.0034332275390625035\n",
      "0.0018463134765625024\n",
      "0.0034332275390625035\n",
      "0.0018463134765625024\n",
      "0.0034332275390625035\n",
      "0.0018463134765625024\n",
      "0.0034332275390625035\n",
      "0.0018463134765625024\n",
      "0.0034332275390625035\n",
      "0.0018463134765625024\n",
      "0.0034332275390625035\n",
      "0.0018463134765625024\n",
      "0.0034332275390625035\n",
      "0.0018463134765625024\n",
      "0.0034332275390625035\n",
      "0.0018463134765625024\n",
      "0.0034332275390625035\n",
      "0.0018463134765625024\n",
      "0.0034332275390625035\n",
      "0.0018463134765625024\n",
      "0.0034332275390625035\n",
      "0.0018463134765625024\n",
      "0.0034332275390625035\n",
      "0.0018463134765625024\n",
      "0.0034332275390625035\n",
      "0.0021972656250000026\n",
      "0.0034332275390625035\n",
      "0.0021972656250000026\n",
      "0.002990722656250003\n",
      "0.0021972656250000026\n",
      "0.002990722656250003\n",
      "0.0021972656250000026\n",
      "0.002990722656250003\n",
      "0.0021972656250000026\n",
      "0.0025787353515625026\n",
      "0.0021972656250000026\n",
      "0.0025787353515625026\n",
      "0.0021972656250000026\n",
      "0.0025787353515625026\n",
      "0.0021972656250000026\n",
      "0.0025787353515625026\n",
      "0.0021972656250000026\n",
      "0.0025787353515625026\n",
      "0.0021972656250000026\n",
      "0.0025787353515625026\n",
      "0.0021972656250000026\n",
      "0.0025787353515625026\n",
      "0.0021972656250000026\n",
      "0.0025787353515625026\n",
      "0.0021972656250000026\n",
      "0.0021972656250000026\n",
      "0.0021972656250000026\n",
      "0.0021972656250000026\n",
      "0.0021972656250000026\n",
      "0.0018463134765625024\n",
      "0.0021972656250000026\n",
      "0.0018463134765625024\n",
      "0.0021972656250000026\n",
      "0.0018463134765625024\n",
      "0.0021972656250000026\n",
      "0.0018463134765625024\n",
      "0.0021972656250000026\n",
      "0.0018463134765625024\n",
      "0.0021972656250000026\n",
      "0.0018463134765625024\n",
      "0.0021972656250000026\n",
      "0.0018463134765625024\n",
      "0.0021972656250000026\n",
      "0.00152587890625\n",
      "0.0021972656250000026\n",
      "0.00152587890625\n",
      "0.0021972656250000026\n",
      "0.00152587890625\n",
      "0.0021972656250000026\n",
      "0.00152587890625\n",
      "0.0021972656250000026\n",
      "0.0012359619140625\n",
      "0.0021972656250000026\n",
      "0.0012359619140625\n",
      "0.0021972656250000026\n",
      "0.0012359619140625\n",
      "0.0021972656250000026\n",
      "0.0012359619140625\n",
      "0.0021972656250000026\n",
      "0.0012359619140625\n",
      "0.0021972656250000026\n",
      "0.0009765625\n",
      "0.0021972656250000026\n",
      "0.0009765625\n",
      "0.0021972656250000026\n",
      "0.0009765625\n",
      "0.0021972656250000026\n",
      "0.0009765625\n",
      "0.0021972656250000026\n",
      "0.0009765625\n",
      "0.0021972656250000026\n",
      "0.0009765625\n",
      "0.0021972656250000026\n",
      "0.0009765625\n",
      "0.0021972656250000026\n",
      "0.0009765625\n",
      "0.0021972656250000026\n",
      "0.0009765625\n",
      "0.0021972656250000026\n",
      "0.0009765625\n",
      "0.0021972656250000026\n",
      "0.0009765625\n",
      "0.0021972656250000026\n",
      "0.0009765625\n",
      "0.0021972656250000026\n",
      "0.0009765625\n",
      "0.0021972656250000026\n",
      "0.0009765625\n",
      "0.0025787353515625026\n",
      "0.0009765625\n",
      "0.0025787353515625026\n",
      "0.0009765625\n",
      "0.0025787353515625026\n",
      "0.0009765625\n",
      "0.0025787353515625026\n",
      "0.0009765625\n",
      "0.0025787353515625026\n",
      "0.0009765625\n",
      "0.0025787353515625026\n",
      "0.0009765625\n",
      "0.0025787353515625026\n",
      "0.0009765625\n",
      "0.0025787353515625026\n",
      "0.0009765625\n",
      "0.0025787353515625026\n",
      "0.0009765625\n",
      "0.0025787353515625026\n",
      "0.0009765625\n",
      "0.0025787353515625026\n",
      "0.0009765625\n",
      "0.0025787353515625026\n",
      "0.0009765625\n",
      "0.0025787353515625026\n",
      "0.0009765625\n",
      "0.0025787353515625026\n",
      "0.0007476806640625\n",
      "0.0025787353515625026\n",
      "0.0007476806640625\n",
      "0.0025787353515625026\n",
      "0.00054931640625\n",
      "0.0025787353515625026\n",
      "0.00054931640625\n",
      "0.0025787353515625026\n",
      "0.00054931640625\n",
      "0.0025787353515625026\n",
      "0.00054931640625\n",
      "0.0025787353515625026\n",
      "0.00054931640625\n",
      "0.0025787353515625026\n",
      "0.00054931640625\n",
      "0.0025787353515625026\n",
      "0.00054931640625\n",
      "0.0025787353515625026\n",
      "0.00054931640625\n",
      "0.0025787353515625026\n",
      "0.00054931640625\n",
      "0.002990722656250003\n",
      "0.00054931640625\n",
      "0.002990722656250003\n",
      "0.00054931640625\n",
      "0.002990722656250003\n",
      "0.00054931640625\n",
      "0.002990722656250003\n",
      "0.00054931640625\n",
      "0.002990722656250003\n",
      "0.00054931640625\n",
      "0.002990722656250003\n"
     ]
    },
    {
     "ename": "KeyboardInterrupt",
     "evalue": "",
     "output_type": "error",
     "traceback": [
      "\u001B[0;31m---------------------------------------------------------------------------\u001B[0m",
      "\u001B[0;31mKeyboardInterrupt\u001B[0m                         Traceback (most recent call last)",
      "Cell \u001B[0;32mIn[144], line 1\u001B[0m\n\u001B[0;32m----> 1\u001B[0m \u001B[43mtrain\u001B[49m\u001B[43m(\u001B[49m\u001B[43m)\u001B[49m\n",
      "Cell \u001B[0;32mIn[143], line 14\u001B[0m, in \u001B[0;36mtrain\u001B[0;34m()\u001B[0m\n\u001B[1;32m     12\u001B[0m counter \u001B[38;5;241m=\u001B[39m \u001B[38;5;241m-\u001B[39m\u001B[38;5;241m1\u001B[39m\n\u001B[1;32m     13\u001B[0m circ \u001B[38;5;241m=\u001B[39m generate_functor()(parser\u001B[38;5;241m.\u001B[39msentence2diagram(sen))\n\u001B[0;32m---> 14\u001B[0m circ_eval \u001B[38;5;241m=\u001B[39m \u001B[43mCircuit\u001B[49m\u001B[38;5;241;43m.\u001B[39;49m\u001B[43meval\u001B[49m\u001B[43m(\u001B[49m\n\u001B[1;32m     15\u001B[0m \u001B[43m    \u001B[49m\u001B[43mcirc\u001B[49m\u001B[43m,\u001B[49m\n\u001B[1;32m     16\u001B[0m \u001B[43m    \u001B[49m\u001B[43mbackend\u001B[49m\u001B[38;5;241;43m=\u001B[39;49m\u001B[43mAerBackend\u001B[49m\u001B[43m(\u001B[49m\u001B[43m)\u001B[49m\u001B[43m,\u001B[49m\n\u001B[1;32m     17\u001B[0m \u001B[43m    \u001B[49m\u001B[43mn_shots\u001B[49m\u001B[38;5;241;43m=\u001B[39;49m\u001B[38;5;241;43m1024\u001B[39;49m\u001B[43m,\u001B[49m\n\u001B[1;32m     18\u001B[0m \u001B[43m    \u001B[49m\u001B[43mseed\u001B[49m\u001B[38;5;241;43m=\u001B[39;49m\u001B[38;5;241;43m1\u001B[39;49m\u001B[43m,\u001B[49m\n\u001B[1;32m     19\u001B[0m \u001B[43m    \u001B[49m\u001B[43mcompilation\u001B[49m\u001B[38;5;241;43m=\u001B[39;49m\u001B[43mAerBackend\u001B[49m\u001B[43m(\u001B[49m\u001B[43m)\u001B[49m\u001B[38;5;241;43m.\u001B[39;49m\u001B[43mdefault_compilation_pass\u001B[49m\u001B[43m(\u001B[49m\u001B[38;5;241;43m2\u001B[39;49m\u001B[43m)\u001B[49m\u001B[43m)\u001B[49m\n\u001B[1;32m     20\u001B[0m qugit \u001B[38;5;241m=\u001B[39m np\u001B[38;5;241m.\u001B[39mabs(circ_eval\u001B[38;5;241m.\u001B[39marray)\n\u001B[1;32m     21\u001B[0m ls \u001B[38;5;241m=\u001B[39m loss(y_true, qugit)\n",
      "File \u001B[0;32m~/PycharmProjects/discopy_0.5.0/lib/python3.10/site-packages/discopy/quantum/circuit.py:288\u001B[0m, in \u001B[0;36mCircuit.eval\u001B[0;34m(self, backend, mixed, contractor, *others, **params)\u001B[0m\n\u001B[1;32m    286\u001B[0m     \u001B[38;5;28;01mreturn\u001B[39;00m \u001B[38;5;28mtype\u001B[39m(box)(box\u001B[38;5;241m.\u001B[39mdom, box\u001B[38;5;241m.\u001B[39mcod, box\u001B[38;5;241m.\u001B[39marray \u001B[38;5;241m+\u001B[39m \u001B[38;5;241m0\u001B[39mj)\n\u001B[1;32m    287\u001B[0m circuits \u001B[38;5;241m=\u001B[39m [circuit\u001B[38;5;241m.\u001B[39mto_tk() \u001B[38;5;28;01mfor\u001B[39;00m circuit \u001B[38;5;129;01min\u001B[39;00m (\u001B[38;5;28mself\u001B[39m, ) \u001B[38;5;241m+\u001B[39m others]\n\u001B[0;32m--> 288\u001B[0m results, counts \u001B[38;5;241m=\u001B[39m [], \u001B[43mcircuits\u001B[49m\u001B[43m[\u001B[49m\u001B[38;5;241;43m0\u001B[39;49m\u001B[43m]\u001B[49m\u001B[38;5;241;43m.\u001B[39;49m\u001B[43mget_counts\u001B[49m\u001B[43m(\u001B[49m\n\u001B[1;32m    289\u001B[0m \u001B[43m    \u001B[49m\u001B[38;5;241;43m*\u001B[39;49m\u001B[43mcircuits\u001B[49m\u001B[43m[\u001B[49m\u001B[38;5;241;43m1\u001B[39;49m\u001B[43m:\u001B[49m\u001B[43m]\u001B[49m\u001B[43m,\u001B[49m\u001B[43m \u001B[49m\u001B[43mbackend\u001B[49m\u001B[38;5;241;43m=\u001B[39;49m\u001B[43mbackend\u001B[49m\u001B[43m,\u001B[49m\u001B[43m \u001B[49m\u001B[38;5;241;43m*\u001B[39;49m\u001B[38;5;241;43m*\u001B[39;49m\u001B[43mparams\u001B[49m\u001B[43m)\u001B[49m\n\u001B[1;32m    290\u001B[0m \u001B[38;5;28;01mfor\u001B[39;00m i, circuit \u001B[38;5;129;01min\u001B[39;00m \u001B[38;5;28menumerate\u001B[39m(circuits):\n\u001B[1;32m    291\u001B[0m     n_bits \u001B[38;5;241m=\u001B[39m \u001B[38;5;28mlen\u001B[39m(circuit\u001B[38;5;241m.\u001B[39mpost_processing\u001B[38;5;241m.\u001B[39mdom)\n",
      "File \u001B[0;32m~/PycharmProjects/discopy_0.5.0/lib/python3.10/site-packages/discopy/quantum/tk.py:133\u001B[0m, in \u001B[0;36mCircuit.get_counts\u001B[0;34m(self, backend, *others, **params)\u001B[0m\n\u001B[1;32m    131\u001B[0m \u001B[38;5;28;01mif\u001B[39;00m compilation \u001B[38;5;129;01mis\u001B[39;00m \u001B[38;5;129;01mnot\u001B[39;00m \u001B[38;5;28;01mNone\u001B[39;00m:\n\u001B[1;32m    132\u001B[0m     \u001B[38;5;28;01mfor\u001B[39;00m circuit \u001B[38;5;129;01min\u001B[39;00m (\u001B[38;5;28mself\u001B[39m, ) \u001B[38;5;241m+\u001B[39m others:\n\u001B[0;32m--> 133\u001B[0m         \u001B[43mcompilation\u001B[49m\u001B[38;5;241;43m.\u001B[39;49m\u001B[43mapply\u001B[49m\u001B[43m(\u001B[49m\u001B[43mcircuit\u001B[49m\u001B[43m)\u001B[49m\n\u001B[1;32m    134\u001B[0m handles \u001B[38;5;241m=\u001B[39m backend\u001B[38;5;241m.\u001B[39mprocess_circuits(\n\u001B[1;32m    135\u001B[0m     (\u001B[38;5;28mself\u001B[39m, ) \u001B[38;5;241m+\u001B[39m others, n_shots\u001B[38;5;241m=\u001B[39mn_shots, seed\u001B[38;5;241m=\u001B[39mseed)\n\u001B[1;32m    136\u001B[0m counts \u001B[38;5;241m=\u001B[39m [backend\u001B[38;5;241m.\u001B[39mget_result(h)\u001B[38;5;241m.\u001B[39mget_counts() \u001B[38;5;28;01mfor\u001B[39;00m h \u001B[38;5;129;01min\u001B[39;00m handles]\n",
      "\u001B[0;31mKeyboardInterrupt\u001B[0m: "
     ]
    }
   ],
   "source": [
    "train()"
   ]
  },
  {
   "cell_type": "code",
   "execution_count": 145,
   "metadata": {},
   "outputs": [
    {
     "data": {
      "text/plain": [
       "{'Alice': 0.11031005859375043,\n",
       " 'loves': 0.14435241699218765,\n",
       " 'Bob': 0.13404235839843742}"
      ]
     },
     "execution_count": 145,
     "metadata": {},
     "output_type": "execute_result"
    }
   ],
   "source": [
    "params"
   ]
  },
  {
   "cell_type": "code",
   "execution_count": 161,
   "metadata": {},
   "outputs": [],
   "source": [
    "data_test=[('Alice loves Bob', 2)]"
   ]
  },
  {
   "cell_type": "code",
   "execution_count": 165,
   "metadata": {},
   "outputs": [
    {
     "name": "stdout",
     "output_type": "stream",
     "text": [
      "0.2851562500000001\n"
     ]
    }
   ],
   "source": [
    "def test(data_test):\n",
    "    for data_point in data_test:\n",
    "       sen = data_point[0]\n",
    "       test_sen = generate_functor()(parser.sentence2diagram(sen))\n",
    "       test_sen_eval = Circuit.eval(test_sen,\n",
    "                backend=AerBackend(),\n",
    "                n_shots=1024,\n",
    "                seed=1,\n",
    "                compilation=AerBackend().default_compilation_pass(2))\n",
    "       print(np.abs(test_sen_eval.array) - test_dict[sen])\n",
    "test(data_test)"
   ]
  },
  {
   "cell_type": "code",
   "execution_count": 162,
   "metadata": {},
   "outputs": [
    {
     "name": "stdout",
     "output_type": "stream",
     "text": [
      "0.2851562500000001\n"
     ]
    }
   ],
   "source": [
    "generate_functor()(parser.sentence2diagram('Romeo kills kills')).draw()\n",
    "circ = generate_functor()(parser.sentence2diagram('Romeo kills kills'))\n",
    "np.abs(Circuit.eval(circ,\n",
    "                backend=AerBackend(),\n",
    "                n_shots=1024,\n",
    "                seed=1,\n",
    "                compilation=AerBackend().default_compilation_pass(2)).array)"
   ]
  },
  {
   "cell_type": "code",
   "execution_count": 264,
   "metadata": {},
   "outputs": [],
   "source": [
    "params['Romeo'] = 0.15"
   ]
  },
  {
   "cell_type": "code",
   "execution_count": 26,
   "metadata": {},
   "outputs": [
    {
     "ename": "AxiomError",
     "evalue": "Ket(0, 0, 0) >> Rx(0.944) @ Id(2) >> H @ Id(2) >> CX @ Id(1) >> Id(1) @ CX does not compose with Id(2) @ Ket(0, 0) >> Id(2) @ H @ Id(1) >> Id(3) @ Rx(0.944) >> Id(2) @ CX: cod=qubit @ qubit @ qubit, dom=qubit @ qubit.",
     "output_type": "error",
     "traceback": [
      "\u001B[0;31m---------------------------------------------------------------------------\u001B[0m",
      "\u001B[0;31mAxiomError\u001B[0m                                Traceback (most recent call last)",
      "Cell \u001B[0;32mIn[26], line 1\u001B[0m\n\u001B[0;32m----> 1\u001B[0m \u001B[43mgenerate_functor\u001B[49m\u001B[43m(\u001B[49m\u001B[43m)\u001B[49m\u001B[43m(\u001B[49m\u001B[43mparser\u001B[49m\u001B[38;5;241;43m.\u001B[39;49m\u001B[43msentence2diagram\u001B[49m\u001B[43m(\u001B[49m\u001B[38;5;124;43m'\u001B[39;49m\u001B[38;5;124;43m loves loves Bob \u001B[39;49m\u001B[38;5;124;43m'\u001B[39;49m\u001B[43m)\u001B[49m\u001B[43m)\u001B[49m\u001B[38;5;241m.\u001B[39mdraw()\n\u001B[1;32m      2\u001B[0m circ \u001B[38;5;241m=\u001B[39m generate_functor()(parser\u001B[38;5;241m.\u001B[39msentence2diagram(\u001B[38;5;124m'\u001B[39m\u001B[38;5;124m loves loves Bob \u001B[39m\u001B[38;5;124m'\u001B[39m))\n\u001B[1;32m      3\u001B[0m np\u001B[38;5;241m.\u001B[39mabs(Circuit\u001B[38;5;241m.\u001B[39meval(circ,\n\u001B[1;32m      4\u001B[0m                 backend\u001B[38;5;241m=\u001B[39mAerBackend(),\n\u001B[1;32m      5\u001B[0m                 n_shots\u001B[38;5;241m=\u001B[39m\u001B[38;5;241m1024\u001B[39m,\n\u001B[1;32m      6\u001B[0m                 seed\u001B[38;5;241m=\u001B[39m\u001B[38;5;241m1\u001B[39m,\n\u001B[1;32m      7\u001B[0m                 compilation\u001B[38;5;241m=\u001B[39mAerBackend()\u001B[38;5;241m.\u001B[39mdefault_compilation_pass(\u001B[38;5;241m2\u001B[39m))\u001B[38;5;241m.\u001B[39marray)\n",
      "File \u001B[0;32m~/PycharmProjects/discopy_0.5.0/lib/python3.10/site-packages/discopy/rigid.py:688\u001B[0m, in \u001B[0;36mFunctor.__call__\u001B[0;34m(self, diagram)\u001B[0m\n\u001B[1;32m    686\u001B[0m     \u001B[38;5;28;01mreturn\u001B[39;00m result\n\u001B[1;32m    687\u001B[0m \u001B[38;5;28;01mif\u001B[39;00m \u001B[38;5;28misinstance\u001B[39m(diagram, monoidal\u001B[38;5;241m.\u001B[39mDiagram):\n\u001B[0;32m--> 688\u001B[0m     \u001B[38;5;28;01mreturn\u001B[39;00m \u001B[38;5;28;43msuper\u001B[39;49m\u001B[43m(\u001B[49m\u001B[43m)\u001B[49m\u001B[38;5;241;43m.\u001B[39;49m\u001B[38;5;21;43m__call__\u001B[39;49m\u001B[43m(\u001B[49m\u001B[43mdiagram\u001B[49m\u001B[43m)\u001B[49m\n\u001B[1;32m    689\u001B[0m \u001B[38;5;28;01mraise\u001B[39;00m \u001B[38;5;167;01mTypeError\u001B[39;00m(messages\u001B[38;5;241m.\u001B[39mtype_err(Diagram, diagram))\n",
      "File \u001B[0;32m~/PycharmProjects/discopy_0.5.0/lib/python3.10/site-packages/discopy/monoidal.py:916\u001B[0m, in \u001B[0;36mFunctor.__call__\u001B[0;34m(self, diagram)\u001B[0m\n\u001B[1;32m    914\u001B[0m     id_l \u001B[38;5;241m=\u001B[39m \u001B[38;5;28mself\u001B[39m\u001B[38;5;241m.\u001B[39mar_factory\u001B[38;5;241m.\u001B[39mid(\u001B[38;5;28mself\u001B[39m(scan[:off]))\n\u001B[1;32m    915\u001B[0m     id_r \u001B[38;5;241m=\u001B[39m \u001B[38;5;28mself\u001B[39m\u001B[38;5;241m.\u001B[39mar_factory\u001B[38;5;241m.\u001B[39mid(\u001B[38;5;28mself\u001B[39m(scan[off \u001B[38;5;241m+\u001B[39m \u001B[38;5;28mlen\u001B[39m(box\u001B[38;5;241m.\u001B[39mdom):]))\n\u001B[0;32m--> 916\u001B[0m     result \u001B[38;5;241m=\u001B[39m \u001B[43mresult\u001B[49m\u001B[43m \u001B[49m\u001B[38;5;241;43m>>\u001B[39;49m\u001B[43m \u001B[49m\u001B[43mid_l\u001B[49m\u001B[43m \u001B[49m\u001B[38;5;241;43m@\u001B[39;49m\u001B[43m \u001B[49m\u001B[38;5;28;43mself\u001B[39;49m\u001B[43m(\u001B[49m\u001B[43mbox\u001B[49m\u001B[43m)\u001B[49m\u001B[43m \u001B[49m\u001B[38;5;241;43m@\u001B[39;49m\u001B[43m \u001B[49m\u001B[43mid_r\u001B[49m\n\u001B[1;32m    917\u001B[0m     scan \u001B[38;5;241m=\u001B[39m scan[:off] \u001B[38;5;241m@\u001B[39m box\u001B[38;5;241m.\u001B[39mcod \u001B[38;5;241m@\u001B[39m scan[off \u001B[38;5;241m+\u001B[39m \u001B[38;5;28mlen\u001B[39m(box\u001B[38;5;241m.\u001B[39mdom):]\n\u001B[1;32m    918\u001B[0m \u001B[38;5;28;01mreturn\u001B[39;00m result\n",
      "File \u001B[0;32m~/PycharmProjects/discopy_0.5.0/lib/python3.10/site-packages/discopy/cat.py:299\u001B[0m, in \u001B[0;36mArrow.__rshift__\u001B[0;34m(self, other)\u001B[0m\n\u001B[1;32m    298\u001B[0m \u001B[38;5;28;01mdef\u001B[39;00m \u001B[38;5;21m__rshift__\u001B[39m(\u001B[38;5;28mself\u001B[39m, other):\n\u001B[0;32m--> 299\u001B[0m     \u001B[38;5;28;01mreturn\u001B[39;00m \u001B[38;5;28;43mself\u001B[39;49m\u001B[38;5;241;43m.\u001B[39;49m\u001B[43mthen\u001B[49m\u001B[43m(\u001B[49m\u001B[43mother\u001B[49m\u001B[43m)\u001B[49m\n",
      "File \u001B[0;32m~/PycharmProjects/discopy_0.5.0/lib/python3.10/site-packages/discopy/monoidal.py:421\u001B[0m, in \u001B[0;36mDiagram.then\u001B[0;34m(self, *others)\u001B[0m\n\u001B[1;32m    415\u001B[0m     \u001B[38;5;28;01mreturn\u001B[39;00m \u001B[38;5;28msuper\u001B[39m()\u001B[38;5;241m.\u001B[39mthen(\u001B[38;5;241m*\u001B[39mothers)\n\u001B[1;32m    416\u001B[0m other, \u001B[38;5;241m=\u001B[39m others\n\u001B[1;32m    417\u001B[0m \u001B[38;5;28;01mreturn\u001B[39;00m \u001B[38;5;28mself\u001B[39m\u001B[38;5;241m.\u001B[39mupgrade(\n\u001B[1;32m    418\u001B[0m     Diagram(\u001B[38;5;28mself\u001B[39m\u001B[38;5;241m.\u001B[39mdom, other\u001B[38;5;241m.\u001B[39mcod,\n\u001B[1;32m    419\u001B[0m             \u001B[38;5;28mself\u001B[39m\u001B[38;5;241m.\u001B[39mboxes \u001B[38;5;241m+\u001B[39m other\u001B[38;5;241m.\u001B[39mboxes,\n\u001B[1;32m    420\u001B[0m             \u001B[38;5;28mself\u001B[39m\u001B[38;5;241m.\u001B[39moffsets \u001B[38;5;241m+\u001B[39m other\u001B[38;5;241m.\u001B[39moffsets,\n\u001B[0;32m--> 421\u001B[0m             layers\u001B[38;5;241m=\u001B[39m\u001B[38;5;28;43mself\u001B[39;49m\u001B[38;5;241;43m.\u001B[39;49m\u001B[43mlayers\u001B[49m\u001B[43m \u001B[49m\u001B[38;5;241;43m>>\u001B[39;49m\u001B[43m \u001B[49m\u001B[43mother\u001B[49m\u001B[38;5;241;43m.\u001B[39;49m\u001B[43mlayers\u001B[49m))\n",
      "File \u001B[0;32m~/PycharmProjects/discopy_0.5.0/lib/python3.10/site-packages/discopy/cat.py:299\u001B[0m, in \u001B[0;36mArrow.__rshift__\u001B[0;34m(self, other)\u001B[0m\n\u001B[1;32m    298\u001B[0m \u001B[38;5;28;01mdef\u001B[39;00m \u001B[38;5;21m__rshift__\u001B[39m(\u001B[38;5;28mself\u001B[39m, other):\n\u001B[0;32m--> 299\u001B[0m     \u001B[38;5;28;01mreturn\u001B[39;00m \u001B[38;5;28;43mself\u001B[39;49m\u001B[38;5;241;43m.\u001B[39;49m\u001B[43mthen\u001B[49m\u001B[43m(\u001B[49m\u001B[43mother\u001B[49m\u001B[43m)\u001B[49m\n",
      "File \u001B[0;32m~/PycharmProjects/discopy_0.5.0/lib/python3.10/site-packages/discopy/cat.py:294\u001B[0m, in \u001B[0;36mArrow.then\u001B[0;34m(self, *others)\u001B[0m\n\u001B[1;32m    292\u001B[0m     \u001B[38;5;28;01mraise\u001B[39;00m \u001B[38;5;167;01mTypeError\u001B[39;00m(messages\u001B[38;5;241m.\u001B[39mtype_err(Arrow, other))\n\u001B[1;32m    293\u001B[0m \u001B[38;5;28;01mif\u001B[39;00m \u001B[38;5;28mself\u001B[39m\u001B[38;5;241m.\u001B[39mcod \u001B[38;5;241m!=\u001B[39m other\u001B[38;5;241m.\u001B[39mdom:\n\u001B[0;32m--> 294\u001B[0m     \u001B[38;5;28;01mraise\u001B[39;00m AxiomError(messages\u001B[38;5;241m.\u001B[39mdoes_not_compose(\u001B[38;5;28mself\u001B[39m, other))\n\u001B[1;32m    295\u001B[0m \u001B[38;5;28;01mreturn\u001B[39;00m \u001B[38;5;28mself\u001B[39m\u001B[38;5;241m.\u001B[39mupgrade(Arrow(\n\u001B[1;32m    296\u001B[0m     \u001B[38;5;28mself\u001B[39m\u001B[38;5;241m.\u001B[39mdom, other\u001B[38;5;241m.\u001B[39mcod, \u001B[38;5;28mself\u001B[39m\u001B[38;5;241m.\u001B[39mboxes \u001B[38;5;241m+\u001B[39m other\u001B[38;5;241m.\u001B[39mboxes, _scan\u001B[38;5;241m=\u001B[39m\u001B[38;5;28;01mFalse\u001B[39;00m))\n",
      "\u001B[0;31mAxiomError\u001B[0m: Ket(0, 0, 0) >> Rx(0.944) @ Id(2) >> H @ Id(2) >> CX @ Id(1) >> Id(1) @ CX does not compose with Id(2) @ Ket(0, 0) >> Id(2) @ H @ Id(1) >> Id(3) @ Rx(0.944) >> Id(2) @ CX: cod=qubit @ qubit @ qubit, dom=qubit @ qubit."
     ]
    }
   ],
   "source": [
    "generate_functor()(parser.sentence2diagram(' loves loves Bob ')).draw()\n",
    "circ = generate_functor()(parser.sentence2diagram(' loves loves Bob '))\n",
    "np.abs(Circuit.eval(circ,\n",
    "                backend=AerBackend(),\n",
    "                n_shots=1024,\n",
    "                seed=1,\n",
    "                compilation=AerBackend().default_compilation_pass(2)).array)"
   ]
  },
  {
   "cell_type": "code",
   "execution_count": 164,
   "metadata": {},
   "outputs": [
    {
     "ename": "KeyError",
     "evalue": "'seal'",
     "output_type": "error",
     "traceback": [
      "\u001B[0;31m---------------------------------------------------------------------------\u001B[0m",
      "\u001B[0;31mKeyError\u001B[0m                                  Traceback (most recent call last)",
      "Cell \u001B[0;32mIn[164], line 1\u001B[0m\n\u001B[0;32m----> 1\u001B[0m \u001B[43mgenerate_functor\u001B[49m\u001B[43m(\u001B[49m\u001B[43m)\u001B[49m\u001B[43m(\u001B[49m\u001B[43mparser\u001B[49m\u001B[38;5;241;43m.\u001B[39;49m\u001B[43msentence2diagram\u001B[49m\u001B[43m(\u001B[49m\u001B[38;5;124;43m'\u001B[39;49m\u001B[38;5;124;43m seal swims in water \u001B[39;49m\u001B[38;5;124;43m'\u001B[39;49m\u001B[43m)\u001B[49m\u001B[43m)\u001B[49m\u001B[38;5;241m.\u001B[39mdraw()\n\u001B[1;32m      2\u001B[0m circ \u001B[38;5;241m=\u001B[39m generate_functor()(parser\u001B[38;5;241m.\u001B[39msentence2diagram(\u001B[38;5;124m'\u001B[39m\u001B[38;5;124m seal swims in water \u001B[39m\u001B[38;5;124m'\u001B[39m))\n\u001B[1;32m      3\u001B[0m np\u001B[38;5;241m.\u001B[39mabs(Circuit\u001B[38;5;241m.\u001B[39meval(circ,\n\u001B[1;32m      4\u001B[0m                 backend\u001B[38;5;241m=\u001B[39mAerBackend(),\n\u001B[1;32m      5\u001B[0m                 n_shots\u001B[38;5;241m=\u001B[39m\u001B[38;5;241m1024\u001B[39m,\n\u001B[1;32m      6\u001B[0m                 seed\u001B[38;5;241m=\u001B[39m\u001B[38;5;241m1\u001B[39m,\n\u001B[1;32m      7\u001B[0m                 compilation\u001B[38;5;241m=\u001B[39mAerBackend()\u001B[38;5;241m.\u001B[39mdefault_compilation_pass(\u001B[38;5;241m2\u001B[39m))\u001B[38;5;241m.\u001B[39marray)\n",
      "File \u001B[0;32m~/PycharmProjects/discopy_0.5.0/lib/python3.10/site-packages/discopy/rigid.py:688\u001B[0m, in \u001B[0;36mFunctor.__call__\u001B[0;34m(self, diagram)\u001B[0m\n\u001B[1;32m    686\u001B[0m     \u001B[38;5;28;01mreturn\u001B[39;00m result\n\u001B[1;32m    687\u001B[0m \u001B[38;5;28;01mif\u001B[39;00m \u001B[38;5;28misinstance\u001B[39m(diagram, monoidal\u001B[38;5;241m.\u001B[39mDiagram):\n\u001B[0;32m--> 688\u001B[0m     \u001B[38;5;28;01mreturn\u001B[39;00m \u001B[38;5;28;43msuper\u001B[39;49m\u001B[43m(\u001B[49m\u001B[43m)\u001B[49m\u001B[38;5;241;43m.\u001B[39;49m\u001B[38;5;21;43m__call__\u001B[39;49m\u001B[43m(\u001B[49m\u001B[43mdiagram\u001B[49m\u001B[43m)\u001B[49m\n\u001B[1;32m    689\u001B[0m \u001B[38;5;28;01mraise\u001B[39;00m \u001B[38;5;167;01mTypeError\u001B[39;00m(messages\u001B[38;5;241m.\u001B[39mtype_err(Diagram, diagram))\n",
      "File \u001B[0;32m~/PycharmProjects/discopy_0.5.0/lib/python3.10/site-packages/discopy/monoidal.py:916\u001B[0m, in \u001B[0;36mFunctor.__call__\u001B[0;34m(self, diagram)\u001B[0m\n\u001B[1;32m    914\u001B[0m     id_l \u001B[38;5;241m=\u001B[39m \u001B[38;5;28mself\u001B[39m\u001B[38;5;241m.\u001B[39mar_factory\u001B[38;5;241m.\u001B[39mid(\u001B[38;5;28mself\u001B[39m(scan[:off]))\n\u001B[1;32m    915\u001B[0m     id_r \u001B[38;5;241m=\u001B[39m \u001B[38;5;28mself\u001B[39m\u001B[38;5;241m.\u001B[39mar_factory\u001B[38;5;241m.\u001B[39mid(\u001B[38;5;28mself\u001B[39m(scan[off \u001B[38;5;241m+\u001B[39m \u001B[38;5;28mlen\u001B[39m(box\u001B[38;5;241m.\u001B[39mdom):]))\n\u001B[0;32m--> 916\u001B[0m     result \u001B[38;5;241m=\u001B[39m result \u001B[38;5;241m>>\u001B[39m id_l \u001B[38;5;241m@\u001B[39m \u001B[38;5;28;43mself\u001B[39;49m\u001B[43m(\u001B[49m\u001B[43mbox\u001B[49m\u001B[43m)\u001B[49m \u001B[38;5;241m@\u001B[39m id_r\n\u001B[1;32m    917\u001B[0m     scan \u001B[38;5;241m=\u001B[39m scan[:off] \u001B[38;5;241m@\u001B[39m box\u001B[38;5;241m.\u001B[39mcod \u001B[38;5;241m@\u001B[39m scan[off \u001B[38;5;241m+\u001B[39m \u001B[38;5;28mlen\u001B[39m(box\u001B[38;5;241m.\u001B[39mdom):]\n\u001B[1;32m    918\u001B[0m \u001B[38;5;28;01mreturn\u001B[39;00m result\n",
      "File \u001B[0;32m~/PycharmProjects/discopy_0.5.0/lib/python3.10/site-packages/discopy/rigid.py:679\u001B[0m, in \u001B[0;36mFunctor.__call__\u001B[0;34m(self, diagram)\u001B[0m\n\u001B[1;32m    677\u001B[0m \u001B[38;5;28;01mif\u001B[39;00m \u001B[38;5;28misinstance\u001B[39m(diagram, Box):\n\u001B[1;32m    678\u001B[0m     \u001B[38;5;28;01mif\u001B[39;00m \u001B[38;5;129;01mnot\u001B[39;00m \u001B[38;5;28mhasattr\u001B[39m(diagram, \u001B[38;5;124m\"\u001B[39m\u001B[38;5;124mz\u001B[39m\u001B[38;5;124m\"\u001B[39m) \u001B[38;5;129;01mor\u001B[39;00m \u001B[38;5;129;01mnot\u001B[39;00m diagram\u001B[38;5;241m.\u001B[39mz:\n\u001B[0;32m--> 679\u001B[0m         \u001B[38;5;28;01mreturn\u001B[39;00m \u001B[38;5;28;43msuper\u001B[39;49m\u001B[43m(\u001B[49m\u001B[43m)\u001B[49m\u001B[38;5;241;43m.\u001B[39;49m\u001B[38;5;21;43m__call__\u001B[39;49m\u001B[43m(\u001B[49m\u001B[43mdiagram\u001B[49m\u001B[43m)\u001B[49m\n\u001B[1;32m    680\u001B[0m     z \u001B[38;5;241m=\u001B[39m diagram\u001B[38;5;241m.\u001B[39mz\n\u001B[1;32m    681\u001B[0m     \u001B[38;5;28;01mfor\u001B[39;00m _ \u001B[38;5;129;01min\u001B[39;00m \u001B[38;5;28mrange\u001B[39m(\u001B[38;5;28mabs\u001B[39m(z)):\n",
      "File \u001B[0;32m~/PycharmProjects/discopy_0.5.0/lib/python3.10/site-packages/discopy/monoidal.py:910\u001B[0m, in \u001B[0;36mFunctor.__call__\u001B[0;34m(self, diagram)\u001B[0m\n\u001B[1;32m    907\u001B[0m     \u001B[38;5;28;01mreturn\u001B[39;00m \u001B[38;5;28mself\u001B[39m\u001B[38;5;241m.\u001B[39mar_factory\u001B[38;5;241m.\u001B[39mswap(\n\u001B[1;32m    908\u001B[0m         \u001B[38;5;28mself\u001B[39m(diagram\u001B[38;5;241m.\u001B[39mleft), \u001B[38;5;28mself\u001B[39m(diagram\u001B[38;5;241m.\u001B[39mright))\n\u001B[1;32m    909\u001B[0m \u001B[38;5;28;01mif\u001B[39;00m \u001B[38;5;28misinstance\u001B[39m(diagram, Box):\n\u001B[0;32m--> 910\u001B[0m     \u001B[38;5;28;01mreturn\u001B[39;00m \u001B[38;5;28;43msuper\u001B[39;49m\u001B[43m(\u001B[49m\u001B[43m)\u001B[49m\u001B[38;5;241;43m.\u001B[39;49m\u001B[38;5;21;43m__call__\u001B[39;49m\u001B[43m(\u001B[49m\u001B[43mdiagram\u001B[49m\u001B[43m)\u001B[49m\n\u001B[1;32m    911\u001B[0m \u001B[38;5;28;01mif\u001B[39;00m \u001B[38;5;28misinstance\u001B[39m(diagram, Diagram):\n\u001B[1;32m    912\u001B[0m     scan, result \u001B[38;5;241m=\u001B[39m diagram\u001B[38;5;241m.\u001B[39mdom, \u001B[38;5;28mself\u001B[39m\u001B[38;5;241m.\u001B[39mar_factory\u001B[38;5;241m.\u001B[39mid(\u001B[38;5;28mself\u001B[39m(diagram\u001B[38;5;241m.\u001B[39mdom))\n",
      "File \u001B[0;32m~/PycharmProjects/discopy_0.5.0/lib/python3.10/site-packages/discopy/cat.py:911\u001B[0m, in \u001B[0;36mFunctor.__call__\u001B[0;34m(self, arrow)\u001B[0m\n\u001B[1;32m    909\u001B[0m     \u001B[38;5;28;01mif\u001B[39;00m arrow\u001B[38;5;241m.\u001B[39mis_dagger:\n\u001B[1;32m    910\u001B[0m         \u001B[38;5;28;01mreturn\u001B[39;00m \u001B[38;5;28mself\u001B[39m\u001B[38;5;241m.\u001B[39mar[arrow\u001B[38;5;241m.\u001B[39mdagger()]\u001B[38;5;241m.\u001B[39mdagger()\n\u001B[0;32m--> 911\u001B[0m     \u001B[38;5;28;01mreturn\u001B[39;00m \u001B[38;5;28;43mself\u001B[39;49m\u001B[38;5;241;43m.\u001B[39;49m\u001B[43mar\u001B[49m\u001B[43m[\u001B[49m\u001B[43marrow\u001B[49m\u001B[43m]\u001B[49m\n\u001B[1;32m    912\u001B[0m \u001B[38;5;28;01mif\u001B[39;00m \u001B[38;5;28misinstance\u001B[39m(arrow, Arrow):\n\u001B[1;32m    913\u001B[0m     \u001B[38;5;28;01mreturn\u001B[39;00m \u001B[38;5;28mself\u001B[39m\u001B[38;5;241m.\u001B[39mar_factory\u001B[38;5;241m.\u001B[39mid(\u001B[38;5;28mself\u001B[39m(arrow\u001B[38;5;241m.\u001B[39mdom))\u001B[38;5;241m.\u001B[39mthen(\u001B[38;5;241m*\u001B[39m\u001B[38;5;28mmap\u001B[39m(\u001B[38;5;28mself\u001B[39m, arrow))\n",
      "File \u001B[0;32m~/PycharmProjects/discopy_0.5.0/lib/python3.10/site-packages/discopy/cat.py:961\u001B[0m, in \u001B[0;36mQuiver.__getitem__\u001B[0;34m(self, box)\u001B[0m\n\u001B[1;32m    960\u001B[0m \u001B[38;5;28;01mdef\u001B[39;00m \u001B[38;5;21m__getitem__\u001B[39m(\u001B[38;5;28mself\u001B[39m, box):\n\u001B[0;32m--> 961\u001B[0m     \u001B[38;5;28;01mreturn\u001B[39;00m \u001B[38;5;28;43mself\u001B[39;49m\u001B[38;5;241;43m.\u001B[39;49m\u001B[43m_func\u001B[49m\u001B[43m(\u001B[49m\u001B[43mbox\u001B[49m\u001B[43m)\u001B[49m\n",
      "Cell \u001B[0;32mIn[136], line 9\u001B[0m, in \u001B[0;36mcnot_ar\u001B[0;34m(box)\u001B[0m\n\u001B[1;32m      7\u001B[0m counter \u001B[38;5;241m+\u001B[39m\u001B[38;5;241m=\u001B[39m \u001B[38;5;241m1\u001B[39m\n\u001B[1;32m      8\u001B[0m \u001B[38;5;28;01mif\u001B[39;00m cod \u001B[38;5;241m==\u001B[39m \u001B[38;5;241m1\u001B[39m \u001B[38;5;129;01mand\u001B[39;00m counter \u001B[38;5;241m!=\u001B[39m m:\n\u001B[0;32m----> 9\u001B[0m     \u001B[38;5;28;01mreturn\u001B[39;00m ansatz_cod_len_1(\u001B[43mparams\u001B[49m\u001B[43m[\u001B[49m\u001B[43mbox_name\u001B[49m\u001B[43m]\u001B[49m)\n\u001B[1;32m     10\u001B[0m \u001B[38;5;28;01melif\u001B[39;00m cod \u001B[38;5;241m==\u001B[39m \u001B[38;5;241m1\u001B[39m \u001B[38;5;129;01mand\u001B[39;00m counter \u001B[38;5;241m==\u001B[39m m:\n\u001B[1;32m     11\u001B[0m     \u001B[38;5;28;01mreturn\u001B[39;00m ansatz_cod_len_1_masked()\n",
      "\u001B[0;31mKeyError\u001B[0m: 'seal'"
     ]
    }
   ],
   "source": []
  }
 ],
 "metadata": {
  "kernelspec": {
   "display_name": "Python 3 (ipykernel)",
   "language": "python",
   "name": "python3"
  },
  "language_info": {
   "codemirror_mode": {
    "name": "ipython",
    "version": 3
   },
   "file_extension": ".py",
   "mimetype": "text/x-python",
   "name": "python",
   "nbconvert_exporter": "python",
   "pygments_lexer": "ipython3",
   "version": "3.10.9"
  }
 },
 "nbformat": 4,
 "nbformat_minor": 1
}
