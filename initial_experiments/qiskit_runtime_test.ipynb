{
 "cells": [
  {
   "cell_type": "markdown",
   "source": [
    "ERROR: pip's dependency resolver does not currently take into account all the packages that are installed. This behaviour is the source of the following dependency conflicts.\n",
    "pytket-qiskit 0.36.0 requires qiskit~=0.41.0, but you have qiskit 0.42.1 which is incompatible.\n",
    "pytket-qiskit 0.36.0 requires qiskit-aer~=0.11.2, but you have qiskit-aer 0.12.0 which is incompatible.\n",
    "pytket-qiskit 0.36.0 requires qiskit-ibm-runtime~=0.8.0, but you have qiskit-ibm-runtime 0.9.3 which is incompatible.\n"
   ],
   "metadata": {
    "collapsed": false
   }
  },
  {
   "cell_type": "code",
   "execution_count": null,
   "outputs": [],
   "source": [
    "from pytket.extensions.qiskit import set_ibmq_config\n",
    "set_ibmq_config(hub='ibm-q-unibw',\n",
    "                group='external-student',\n",
    "                project='qnlp', ibmq_api_token='7c4a348dd83600545d560523c09e0cb05ce80191c267fcce23eba6e11cb8af4b5d446ab4182525881e9e3195a383a1006f92af6a4084d35b05e27f8456321d80')"
   ],
   "metadata": {
    "collapsed": false
   }
  },
  {
   "cell_type": "code",
   "execution_count": 1,
   "metadata": {
    "collapsed": true
   },
   "outputs": [],
   "source": [
    "from qiskit_ibm_runtime import QiskitRuntimeService\n",
    "\n",
    "# Save an IBM Quantum account.\n",
    "QiskitRuntimeService.save_account(channel=\"ibm_quantum\", token=\"7c4a348dd83600545d560523c09e0cb05ce80191c267fcce23eba6e11cb8af4b5d446ab4182525881e9e3195a383a1006f92af6a4084d35b05e27f8456321d80\")"
   ]
  },
  {
   "cell_type": "code",
   "execution_count": 4,
   "outputs": [],
   "source": [
    "service = QiskitRuntimeService(channel=\"ibm_quantum\")\n",
    "backend = service.get_backend(\"ibm_washington\")"
   ],
   "metadata": {
    "collapsed": false
   }
  },
  {
   "cell_type": "code",
   "execution_count": 5,
   "outputs": [
    {
     "name": "stdout",
     "output_type": "stream",
     "text": [
      "job id: cgul4co43kb0aavfnkv0\n",
      "Hello, World!\n"
     ]
    }
   ],
   "source": [
    "service = QiskitRuntimeService()\n",
    "program_inputs = {'iterations': 1}\n",
    "options = {\"backend_name\": \"ibmq_qasm_simulator\"}\n",
    "job = service.run(program_id=\"hello-world\",\n",
    "                options=options,\n",
    "                inputs=program_inputs\n",
    "                )\n",
    "print(f\"job id: {job.job_id()}\")\n",
    "result = job.result()\n",
    "print(result)"
   ],
   "metadata": {
    "collapsed": false
   }
  },
  {
   "cell_type": "code",
   "execution_count": 6,
   "outputs": [],
   "source": [
    "\"\"\"A sample runtime program that submits random circuits for user-specified iterations.\"\"\"\n",
    "\n",
    "import random\n",
    "\n",
    "from qiskit import transpile\n",
    "from qiskit.circuit.random import random_circuit\n",
    "\n",
    "\n",
    "def prepare_circuits(backend):\n",
    "    \"\"\"Generate a random circuit.\n",
    "\n",
    "    Args:\n",
    "        backend: Backend used for transpilation.\n",
    "\n",
    "    Returns:\n",
    "        Generated circuit.\n",
    "    \"\"\"\n",
    "    circuit = random_circuit(\n",
    "        num_qubits=5, depth=4, measure=True, seed=random.randint(0, 1000)\n",
    "    )\n",
    "    return transpile(circuit, backend)\n",
    "\n",
    "\n",
    "def main(backend, user_messenger, **kwargs):\n",
    "    \"\"\"Main entry point of the program.\n",
    "\n",
    "    Args:\n",
    "        backend: Backend to submit the circuits to.\n",
    "        user_messenger: Used to communicate with the program consumer.\n",
    "        kwargs: User inputs.\n",
    "    \"\"\"\n",
    "    iterations = kwargs.pop(\"iterations\", 5)\n",
    "    for it in range(iterations):\n",
    "        qc = prepare_circuits(backend)\n",
    "        result = backend.run(qc).result()\n",
    "        user_messenger.publish({\"iteration\": it, \"counts\": result.get_counts()})\n",
    "\n",
    "    return \"Hello, World!\""
   ],
   "metadata": {
    "collapsed": false
   }
  },
  {
   "cell_type": "code",
   "execution_count": 7,
   "outputs": [
    {
     "ename": "RuntimeError",
     "evalue": "IBMBackend.run() is not supported in the Qiskit Runtime environment.",
     "output_type": "error",
     "traceback": [
      "\u001B[0;31m---------------------------------------------------------------------------\u001B[0m",
      "\u001B[0;31mRuntimeError\u001B[0m                              Traceback (most recent call last)",
      "Cell \u001B[0;32mIn[7], line 4\u001B[0m\n\u001B[1;32m      2\u001B[0m \u001B[38;5;28;01mfrom\u001B[39;00m \u001B[38;5;21;01mqiskit_ibm_runtime\u001B[39;00m\u001B[38;5;21;01m.\u001B[39;00m\u001B[38;5;21;01mprogram\u001B[39;00m \u001B[38;5;28;01mimport\u001B[39;00m UserMessenger, ProgramBackend\n\u001B[1;32m      3\u001B[0m user_messenger \u001B[38;5;241m=\u001B[39m UserMessenger()\n\u001B[0;32m----> 4\u001B[0m \u001B[43mmain\u001B[49m\u001B[43m(\u001B[49m\u001B[43mbackend\u001B[49m\u001B[38;5;241;43m=\u001B[39;49m\u001B[43mbackend\u001B[49m\u001B[43m,\u001B[49m\u001B[43m \u001B[49m\u001B[43muser_messenger\u001B[49m\u001B[38;5;241;43m=\u001B[39;49m\u001B[43muser_messenger\u001B[49m\u001B[43m)\u001B[49m\n",
      "Cell \u001B[0;32mIn[6], line 35\u001B[0m, in \u001B[0;36mmain\u001B[0;34m(backend, user_messenger, **kwargs)\u001B[0m\n\u001B[1;32m     33\u001B[0m \u001B[38;5;28;01mfor\u001B[39;00m it \u001B[38;5;129;01min\u001B[39;00m \u001B[38;5;28mrange\u001B[39m(iterations):\n\u001B[1;32m     34\u001B[0m     qc \u001B[38;5;241m=\u001B[39m prepare_circuits(backend)\n\u001B[0;32m---> 35\u001B[0m     result \u001B[38;5;241m=\u001B[39m \u001B[43mbackend\u001B[49m\u001B[38;5;241;43m.\u001B[39;49m\u001B[43mrun\u001B[49m\u001B[43m(\u001B[49m\u001B[43mqc\u001B[49m\u001B[43m)\u001B[49m\u001B[38;5;241m.\u001B[39mresult()\n\u001B[1;32m     36\u001B[0m     user_messenger\u001B[38;5;241m.\u001B[39mpublish({\u001B[38;5;124m\"\u001B[39m\u001B[38;5;124miteration\u001B[39m\u001B[38;5;124m\"\u001B[39m: it, \u001B[38;5;124m\"\u001B[39m\u001B[38;5;124mcounts\u001B[39m\u001B[38;5;124m\"\u001B[39m: result\u001B[38;5;241m.\u001B[39mget_counts()})\n\u001B[1;32m     38\u001B[0m \u001B[38;5;28;01mreturn\u001B[39;00m \u001B[38;5;124m\"\u001B[39m\u001B[38;5;124mHello, World!\u001B[39m\u001B[38;5;124m\"\u001B[39m\n",
      "File \u001B[0;32m~/PycharmProjects/discopy_0.5.0/lib/python3.10/site-packages/qiskit_ibm_runtime/ibm_backend.py:502\u001B[0m, in \u001B[0;36mIBMBackend.run\u001B[0;34m(self, *args, **kwargs)\u001B[0m\n\u001B[1;32m    500\u001B[0m \u001B[38;5;250m\u001B[39m\u001B[38;5;124;03m\"\"\"Not supported method\"\"\"\u001B[39;00m\n\u001B[1;32m    501\u001B[0m \u001B[38;5;66;03m# pylint: disable=arguments-differ\u001B[39;00m\n\u001B[0;32m--> 502\u001B[0m \u001B[38;5;28;01mraise\u001B[39;00m \u001B[38;5;167;01mRuntimeError\u001B[39;00m(\n\u001B[1;32m    503\u001B[0m     \u001B[38;5;124m\"\u001B[39m\u001B[38;5;124mIBMBackend.run() is not supported in the Qiskit Runtime environment.\u001B[39m\u001B[38;5;124m\"\u001B[39m\n\u001B[1;32m    504\u001B[0m )\n",
      "\u001B[0;31mRuntimeError\u001B[0m: IBMBackend.run() is not supported in the Qiskit Runtime environment."
     ]
    }
   ],
   "source": [
    "from qiskit_ibm_runtime import RuntimeEncoder, RuntimeDecoder\n",
    "from qiskit_ibm_runtime.program import UserMessenger, ProgramBackend\n",
    "user_messenger = UserMessenger()\n",
    "main(backend=backend, user_messenger=user_messenger)"
   ],
   "metadata": {
    "collapsed": false
   }
  },
  {
   "cell_type": "code",
   "execution_count": null,
   "outputs": [],
   "source": [],
   "metadata": {
    "collapsed": false
   }
  }
 ],
 "metadata": {
  "kernelspec": {
   "display_name": "Python 3",
   "language": "python",
   "name": "python3"
  },
  "language_info": {
   "codemirror_mode": {
    "name": "ipython",
    "version": 2
   },
   "file_extension": ".py",
   "mimetype": "text/x-python",
   "name": "python",
   "nbconvert_exporter": "python",
   "pygments_lexer": "ipython2",
   "version": "2.7.6"
  }
 },
 "nbformat": 4,
 "nbformat_minor": 0
}
